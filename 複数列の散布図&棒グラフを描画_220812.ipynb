{
 "cells": [
  {
   "cell_type": "code",
   "execution_count": 1,
   "metadata": {},
   "outputs": [],
   "source": [
    "import pandas as pd\n",
    "import numpy as np\n",
    "import gc\n",
    "import matplotlib.pyplot as plt\n",
    "import seaborn as sns\n",
    "%matplotlib inline"
   ]
  },
  {
   "cell_type": "code",
   "execution_count": 2,
   "metadata": {},
   "outputs": [],
   "source": [
    "df = sns.load_dataset('titanic')"
   ]
  },
  {
   "cell_type": "code",
   "execution_count": 3,
   "metadata": {},
   "outputs": [],
   "source": [
    "pd.set_option('display.max_rows', None)\n",
    "pd.set_option('display.max_columns', None)"
   ]
  },
  {
   "cell_type": "code",
   "execution_count": 4,
   "metadata": {},
   "outputs": [
    {
     "data": {
      "text/html": [
       "<div>\n",
       "<style scoped>\n",
       "    .dataframe tbody tr th:only-of-type {\n",
       "        vertical-align: middle;\n",
       "    }\n",
       "\n",
       "    .dataframe tbody tr th {\n",
       "        vertical-align: top;\n",
       "    }\n",
       "\n",
       "    .dataframe thead th {\n",
       "        text-align: right;\n",
       "    }\n",
       "</style>\n",
       "<table border=\"1\" class=\"dataframe\">\n",
       "  <thead>\n",
       "    <tr style=\"text-align: right;\">\n",
       "      <th></th>\n",
       "      <th>survived</th>\n",
       "      <th>pclass</th>\n",
       "      <th>sex</th>\n",
       "      <th>age</th>\n",
       "      <th>sibsp</th>\n",
       "      <th>parch</th>\n",
       "      <th>fare</th>\n",
       "      <th>embarked</th>\n",
       "      <th>class</th>\n",
       "      <th>who</th>\n",
       "      <th>adult_male</th>\n",
       "      <th>deck</th>\n",
       "      <th>embark_town</th>\n",
       "      <th>alive</th>\n",
       "      <th>alone</th>\n",
       "    </tr>\n",
       "  </thead>\n",
       "  <tbody>\n",
       "    <tr>\n",
       "      <th>0</th>\n",
       "      <td>0</td>\n",
       "      <td>3</td>\n",
       "      <td>male</td>\n",
       "      <td>22.0</td>\n",
       "      <td>1</td>\n",
       "      <td>0</td>\n",
       "      <td>7.2500</td>\n",
       "      <td>S</td>\n",
       "      <td>Third</td>\n",
       "      <td>man</td>\n",
       "      <td>True</td>\n",
       "      <td>NaN</td>\n",
       "      <td>Southampton</td>\n",
       "      <td>no</td>\n",
       "      <td>False</td>\n",
       "    </tr>\n",
       "    <tr>\n",
       "      <th>1</th>\n",
       "      <td>1</td>\n",
       "      <td>1</td>\n",
       "      <td>female</td>\n",
       "      <td>38.0</td>\n",
       "      <td>1</td>\n",
       "      <td>0</td>\n",
       "      <td>71.2833</td>\n",
       "      <td>C</td>\n",
       "      <td>First</td>\n",
       "      <td>woman</td>\n",
       "      <td>False</td>\n",
       "      <td>C</td>\n",
       "      <td>Cherbourg</td>\n",
       "      <td>yes</td>\n",
       "      <td>False</td>\n",
       "    </tr>\n",
       "    <tr>\n",
       "      <th>2</th>\n",
       "      <td>1</td>\n",
       "      <td>3</td>\n",
       "      <td>female</td>\n",
       "      <td>26.0</td>\n",
       "      <td>0</td>\n",
       "      <td>0</td>\n",
       "      <td>7.9250</td>\n",
       "      <td>S</td>\n",
       "      <td>Third</td>\n",
       "      <td>woman</td>\n",
       "      <td>False</td>\n",
       "      <td>NaN</td>\n",
       "      <td>Southampton</td>\n",
       "      <td>yes</td>\n",
       "      <td>True</td>\n",
       "    </tr>\n",
       "    <tr>\n",
       "      <th>3</th>\n",
       "      <td>1</td>\n",
       "      <td>1</td>\n",
       "      <td>female</td>\n",
       "      <td>35.0</td>\n",
       "      <td>1</td>\n",
       "      <td>0</td>\n",
       "      <td>53.1000</td>\n",
       "      <td>S</td>\n",
       "      <td>First</td>\n",
       "      <td>woman</td>\n",
       "      <td>False</td>\n",
       "      <td>C</td>\n",
       "      <td>Southampton</td>\n",
       "      <td>yes</td>\n",
       "      <td>False</td>\n",
       "    </tr>\n",
       "    <tr>\n",
       "      <th>4</th>\n",
       "      <td>0</td>\n",
       "      <td>3</td>\n",
       "      <td>male</td>\n",
       "      <td>35.0</td>\n",
       "      <td>0</td>\n",
       "      <td>0</td>\n",
       "      <td>8.0500</td>\n",
       "      <td>S</td>\n",
       "      <td>Third</td>\n",
       "      <td>man</td>\n",
       "      <td>True</td>\n",
       "      <td>NaN</td>\n",
       "      <td>Southampton</td>\n",
       "      <td>no</td>\n",
       "      <td>True</td>\n",
       "    </tr>\n",
       "  </tbody>\n",
       "</table>\n",
       "</div>"
      ],
      "text/plain": [
       "   survived  pclass     sex   age  sibsp  parch     fare embarked  class  \\\n",
       "0         0       3    male  22.0      1      0   7.2500        S  Third   \n",
       "1         1       1  female  38.0      1      0  71.2833        C  First   \n",
       "2         1       3  female  26.0      0      0   7.9250        S  Third   \n",
       "3         1       1  female  35.0      1      0  53.1000        S  First   \n",
       "4         0       3    male  35.0      0      0   8.0500        S  Third   \n",
       "\n",
       "     who  adult_male deck  embark_town alive  alone  \n",
       "0    man        True  NaN  Southampton    no  False  \n",
       "1  woman       False    C    Cherbourg   yes  False  \n",
       "2  woman       False  NaN  Southampton   yes   True  \n",
       "3  woman       False    C  Southampton   yes  False  \n",
       "4    man        True  NaN  Southampton    no   True  "
      ]
     },
     "execution_count": 4,
     "metadata": {},
     "output_type": "execute_result"
    }
   ],
   "source": [
    "df.head()"
   ]
  },
  {
   "cell_type": "code",
   "execution_count": 5,
   "metadata": {},
   "outputs": [
    {
     "data": {
      "text/plain": [
       "survived         0\n",
       "pclass           0\n",
       "sex              0\n",
       "age            177\n",
       "sibsp            0\n",
       "parch            0\n",
       "fare             0\n",
       "embarked         2\n",
       "class            0\n",
       "who              0\n",
       "adult_male       0\n",
       "deck           688\n",
       "embark_town      2\n",
       "alive            0\n",
       "alone            0\n",
       "dtype: int64"
      ]
     },
     "execution_count": 5,
     "metadata": {},
     "output_type": "execute_result"
    }
   ],
   "source": [
    "df.isnull().sum()"
   ]
  },
  {
   "cell_type": "code",
   "execution_count": 6,
   "metadata": {},
   "outputs": [
    {
     "data": {
      "text/plain": [
       "Index(['survived', 'pclass', 'sex', 'age', 'sibsp', 'parch', 'fare',\n",
       "       'embarked', 'class', 'who', 'adult_male', 'deck', 'embark_town',\n",
       "       'alive', 'alone'],\n",
       "      dtype='object')"
      ]
     },
     "execution_count": 6,
     "metadata": {},
     "output_type": "execute_result"
    }
   ],
   "source": [
    "df.columns"
   ]
  },
  {
   "cell_type": "code",
   "execution_count": 7,
   "metadata": {},
   "outputs": [],
   "source": [
    "df_label = df[[ 'sex',  'sibsp', 'parch', \n",
    "       'embarked', 'class', 'who', 'adult_male', 'deck', 'embark_town',\n",
    "       'alive', 'alone']]\n",
    "\n",
    "df_label = df_label.astype({'class':str, 'deck':str}).fillna('欠損値')"
   ]
  },
  {
   "cell_type": "markdown",
   "metadata": {},
   "source": [
    "df_num = df.select_dtypes(include=[float, int])\n",
    "df_num.head(1)"
   ]
  },
  {
   "cell_type": "markdown",
   "metadata": {},
   "source": [
    "df_ob = df.select_dtypes(exclude=[float, int])\n",
    "df_ob.head(1)"
   ]
  },
  {
   "cell_type": "markdown",
   "metadata": {},
   "source": [
    "display(df_num.shape, df_ob.shape)"
   ]
  },
  {
   "cell_type": "code",
   "execution_count": 8,
   "metadata": {},
   "outputs": [
    {
     "data": {
      "text/html": [
       "<div>\n",
       "<style scoped>\n",
       "    .dataframe tbody tr th:only-of-type {\n",
       "        vertical-align: middle;\n",
       "    }\n",
       "\n",
       "    .dataframe tbody tr th {\n",
       "        vertical-align: top;\n",
       "    }\n",
       "\n",
       "    .dataframe thead th {\n",
       "        text-align: right;\n",
       "    }\n",
       "</style>\n",
       "<table border=\"1\" class=\"dataframe\">\n",
       "  <thead>\n",
       "    <tr style=\"text-align: right;\">\n",
       "      <th></th>\n",
       "      <th>sex</th>\n",
       "      <th>sibsp</th>\n",
       "      <th>parch</th>\n",
       "      <th>embarked</th>\n",
       "      <th>class</th>\n",
       "      <th>who</th>\n",
       "      <th>adult_male</th>\n",
       "      <th>deck</th>\n",
       "      <th>embark_town</th>\n",
       "      <th>alive</th>\n",
       "      <th>alone</th>\n",
       "    </tr>\n",
       "  </thead>\n",
       "  <tbody>\n",
       "    <tr>\n",
       "      <th>0</th>\n",
       "      <td>male</td>\n",
       "      <td>1</td>\n",
       "      <td>0</td>\n",
       "      <td>S</td>\n",
       "      <td>Third</td>\n",
       "      <td>man</td>\n",
       "      <td>True</td>\n",
       "      <td>nan</td>\n",
       "      <td>Southampton</td>\n",
       "      <td>no</td>\n",
       "      <td>False</td>\n",
       "    </tr>\n",
       "  </tbody>\n",
       "</table>\n",
       "</div>"
      ],
      "text/plain": [
       "    sex  sibsp  parch embarked  class  who  adult_male deck  embark_town  \\\n",
       "0  male      1      0        S  Third  man        True  nan  Southampton   \n",
       "\n",
       "  alive  alone  \n",
       "0    no  False  "
      ]
     },
     "execution_count": 8,
     "metadata": {},
     "output_type": "execute_result"
    }
   ],
   "source": [
    "df_label.head(1)"
   ]
  },
  {
   "cell_type": "code",
   "execution_count": 9,
   "metadata": {},
   "outputs": [
    {
     "name": "stdout",
     "output_type": "stream",
     "text": [
      "sex ['male' 'female']\n",
      "sibsp [1 0 3 4 2 5 8]\n",
      "parch [0 1 2 5 3 4 6]\n",
      "embarked ['S' 'C' 'Q' '欠損値']\n",
      "class ['Third' 'First' 'Second']\n",
      "who ['man' 'woman' 'child']\n",
      "adult_male [ True False]\n",
      "deck ['nan' 'C' 'E' 'G' 'D' 'A' 'B' 'F']\n",
      "embark_town ['Southampton' 'Cherbourg' 'Queenstown' '欠損値']\n",
      "alive ['no' 'yes']\n",
      "alone [False  True]\n"
     ]
    }
   ],
   "source": [
    "for col in df_label.columns.tolist():\n",
    "    print(col,df_label[col].unique())"
   ]
  },
  {
   "cell_type": "code",
   "execution_count": 10,
   "metadata": {
    "scrolled": true
   },
   "outputs": [
    {
     "data": {
      "text/plain": [
       "{'sex': {'female': 0, 'male': 1},\n",
       " 'sibsp': {0: 0, 1: 1, 2: 2, 3: 3, 4: 4, 5: 5, 8: 6},\n",
       " 'parch': {0: 0, 1: 1, 2: 2, 3: 3, 4: 4, 5: 5, 6: 6},\n",
       " 'embarked': {'C': 0, 'Q': 1, 'S': 2, '欠損値': 3},\n",
       " 'class': {'First': 0, 'Second': 1, 'Third': 2},\n",
       " 'who': {'child': 0, 'man': 1, 'woman': 2},\n",
       " 'adult_male': {False: 0, True: 1},\n",
       " 'deck': {'A': 0, 'B': 1, 'C': 2, 'D': 3, 'E': 4, 'F': 5, 'G': 6, 'nan': 7},\n",
       " 'embark_town': {'Cherbourg': 0, 'Queenstown': 1, 'Southampton': 2, '欠損値': 3},\n",
       " 'alive': {'no': 0, 'yes': 1},\n",
       " 'alone': {False: 0, True: 1}}"
      ]
     },
     "execution_count": 10,
     "metadata": {},
     "output_type": "execute_result"
    }
   ],
   "source": [
    "main_col_label_dic = {}\n",
    "for col in df_label.columns.tolist():\n",
    "    cnt = 0\n",
    "    col_label_dic = {}\n",
    "    for val in np.unique(df_label[col]):\n",
    "        col_label_dic.setdefault(val, cnt)\n",
    "        cnt += 1\n",
    "        main_col_label_dic[col] = col_label_dic\n",
    "\n",
    "        \n",
    "main_col_label_dic"
   ]
  },
  {
   "cell_type": "markdown",
   "metadata": {},
   "source": [
    "### ラベルエンコーディング"
   ]
  },
  {
   "cell_type": "code",
   "execution_count": 11,
   "metadata": {},
   "outputs": [],
   "source": [
    "df_label_enc = df_label.copy()\n",
    "\n",
    "# 列毎にラベルエンコーディングを実施\n",
    "# map()の引数に辞書dict（{key: value}）を指定すると、keyと一致する要素がvalueに置き換えられる。\n",
    "for col in df_label_enc.columns.tolist():\n",
    "    df_label_enc[col] = df_label_enc[col].map(main_col_label_dic[col])"
   ]
  },
  {
   "cell_type": "code",
   "execution_count": 12,
   "metadata": {},
   "outputs": [
    {
     "data": {
      "text/html": [
       "<div>\n",
       "<style scoped>\n",
       "    .dataframe tbody tr th:only-of-type {\n",
       "        vertical-align: middle;\n",
       "    }\n",
       "\n",
       "    .dataframe tbody tr th {\n",
       "        vertical-align: top;\n",
       "    }\n",
       "\n",
       "    .dataframe thead th {\n",
       "        text-align: right;\n",
       "    }\n",
       "</style>\n",
       "<table border=\"1\" class=\"dataframe\">\n",
       "  <thead>\n",
       "    <tr style=\"text-align: right;\">\n",
       "      <th></th>\n",
       "      <th>sex</th>\n",
       "      <th>sibsp</th>\n",
       "      <th>parch</th>\n",
       "      <th>embarked</th>\n",
       "      <th>class</th>\n",
       "      <th>who</th>\n",
       "      <th>adult_male</th>\n",
       "      <th>deck</th>\n",
       "      <th>embark_town</th>\n",
       "      <th>alive</th>\n",
       "      <th>alone</th>\n",
       "    </tr>\n",
       "  </thead>\n",
       "  <tbody>\n",
       "    <tr>\n",
       "      <th>0</th>\n",
       "      <td>1</td>\n",
       "      <td>1</td>\n",
       "      <td>0</td>\n",
       "      <td>2</td>\n",
       "      <td>2</td>\n",
       "      <td>1</td>\n",
       "      <td>1</td>\n",
       "      <td>7</td>\n",
       "      <td>2</td>\n",
       "      <td>0</td>\n",
       "      <td>0</td>\n",
       "    </tr>\n",
       "    <tr>\n",
       "      <th>1</th>\n",
       "      <td>0</td>\n",
       "      <td>1</td>\n",
       "      <td>0</td>\n",
       "      <td>0</td>\n",
       "      <td>0</td>\n",
       "      <td>2</td>\n",
       "      <td>0</td>\n",
       "      <td>2</td>\n",
       "      <td>0</td>\n",
       "      <td>1</td>\n",
       "      <td>0</td>\n",
       "    </tr>\n",
       "    <tr>\n",
       "      <th>2</th>\n",
       "      <td>0</td>\n",
       "      <td>0</td>\n",
       "      <td>0</td>\n",
       "      <td>2</td>\n",
       "      <td>2</td>\n",
       "      <td>2</td>\n",
       "      <td>0</td>\n",
       "      <td>7</td>\n",
       "      <td>2</td>\n",
       "      <td>1</td>\n",
       "      <td>1</td>\n",
       "    </tr>\n",
       "    <tr>\n",
       "      <th>3</th>\n",
       "      <td>0</td>\n",
       "      <td>1</td>\n",
       "      <td>0</td>\n",
       "      <td>2</td>\n",
       "      <td>0</td>\n",
       "      <td>2</td>\n",
       "      <td>0</td>\n",
       "      <td>2</td>\n",
       "      <td>2</td>\n",
       "      <td>1</td>\n",
       "      <td>0</td>\n",
       "    </tr>\n",
       "    <tr>\n",
       "      <th>4</th>\n",
       "      <td>1</td>\n",
       "      <td>0</td>\n",
       "      <td>0</td>\n",
       "      <td>2</td>\n",
       "      <td>2</td>\n",
       "      <td>1</td>\n",
       "      <td>1</td>\n",
       "      <td>7</td>\n",
       "      <td>2</td>\n",
       "      <td>0</td>\n",
       "      <td>1</td>\n",
       "    </tr>\n",
       "  </tbody>\n",
       "</table>\n",
       "</div>"
      ],
      "text/plain": [
       "   sex  sibsp  parch  embarked  class  who  adult_male  deck  embark_town  \\\n",
       "0    1      1      0         2      2    1           1     7            2   \n",
       "1    0      1      0         0      0    2           0     2            0   \n",
       "2    0      0      0         2      2    2           0     7            2   \n",
       "3    0      1      0         2      0    2           0     2            2   \n",
       "4    1      0      0         2      2    1           1     7            2   \n",
       "\n",
       "   alive  alone  \n",
       "0      0      0  \n",
       "1      1      0  \n",
       "2      1      1  \n",
       "3      1      0  \n",
       "4      0      1  "
      ]
     },
     "execution_count": 12,
     "metadata": {},
     "output_type": "execute_result"
    }
   ],
   "source": [
    "df_label_enc.head()"
   ]
  },
  {
   "cell_type": "code",
   "execution_count": 13,
   "metadata": {},
   "outputs": [
    {
     "data": {
      "text/plain": [
       "(891, 11)"
      ]
     },
     "execution_count": 13,
     "metadata": {},
     "output_type": "execute_result"
    }
   ],
   "source": [
    "df_label_enc.shape "
   ]
  },
  {
   "cell_type": "code",
   "execution_count": 14,
   "metadata": {},
   "outputs": [
    {
     "data": {
      "text/plain": [
       "(891, 26)"
      ]
     },
     "metadata": {},
     "output_type": "display_data"
    },
    {
     "data": {
      "text/html": [
       "<div>\n",
       "<style scoped>\n",
       "    .dataframe tbody tr th:only-of-type {\n",
       "        vertical-align: middle;\n",
       "    }\n",
       "\n",
       "    .dataframe tbody tr th {\n",
       "        vertical-align: top;\n",
       "    }\n",
       "\n",
       "    .dataframe thead th {\n",
       "        text-align: right;\n",
       "    }\n",
       "</style>\n",
       "<table border=\"1\" class=\"dataframe\">\n",
       "  <thead>\n",
       "    <tr style=\"text-align: right;\">\n",
       "      <th></th>\n",
       "      <th>survived</th>\n",
       "      <th>pclass</th>\n",
       "      <th>sex</th>\n",
       "      <th>age</th>\n",
       "      <th>sibsp</th>\n",
       "      <th>parch</th>\n",
       "      <th>fare</th>\n",
       "      <th>embarked</th>\n",
       "      <th>class</th>\n",
       "      <th>who</th>\n",
       "      <th>adult_male</th>\n",
       "      <th>deck</th>\n",
       "      <th>embark_town</th>\n",
       "      <th>alive</th>\n",
       "      <th>alone</th>\n",
       "      <th>sex_label</th>\n",
       "      <th>sibsp_label</th>\n",
       "      <th>parch_label</th>\n",
       "      <th>embarked_label</th>\n",
       "      <th>class_label</th>\n",
       "      <th>who_label</th>\n",
       "      <th>adult_male_label</th>\n",
       "      <th>deck_label</th>\n",
       "      <th>embark_town_label</th>\n",
       "      <th>alive_label</th>\n",
       "      <th>alone_label</th>\n",
       "    </tr>\n",
       "  </thead>\n",
       "  <tbody>\n",
       "    <tr>\n",
       "      <th>0</th>\n",
       "      <td>0</td>\n",
       "      <td>3</td>\n",
       "      <td>male</td>\n",
       "      <td>22.0</td>\n",
       "      <td>1</td>\n",
       "      <td>0</td>\n",
       "      <td>7.2500</td>\n",
       "      <td>S</td>\n",
       "      <td>Third</td>\n",
       "      <td>man</td>\n",
       "      <td>True</td>\n",
       "      <td>NaN</td>\n",
       "      <td>Southampton</td>\n",
       "      <td>no</td>\n",
       "      <td>False</td>\n",
       "      <td>1</td>\n",
       "      <td>1</td>\n",
       "      <td>0</td>\n",
       "      <td>2</td>\n",
       "      <td>2</td>\n",
       "      <td>1</td>\n",
       "      <td>1</td>\n",
       "      <td>7</td>\n",
       "      <td>2</td>\n",
       "      <td>0</td>\n",
       "      <td>0</td>\n",
       "    </tr>\n",
       "    <tr>\n",
       "      <th>1</th>\n",
       "      <td>1</td>\n",
       "      <td>1</td>\n",
       "      <td>female</td>\n",
       "      <td>38.0</td>\n",
       "      <td>1</td>\n",
       "      <td>0</td>\n",
       "      <td>71.2833</td>\n",
       "      <td>C</td>\n",
       "      <td>First</td>\n",
       "      <td>woman</td>\n",
       "      <td>False</td>\n",
       "      <td>C</td>\n",
       "      <td>Cherbourg</td>\n",
       "      <td>yes</td>\n",
       "      <td>False</td>\n",
       "      <td>0</td>\n",
       "      <td>1</td>\n",
       "      <td>0</td>\n",
       "      <td>0</td>\n",
       "      <td>0</td>\n",
       "      <td>2</td>\n",
       "      <td>0</td>\n",
       "      <td>2</td>\n",
       "      <td>0</td>\n",
       "      <td>1</td>\n",
       "      <td>0</td>\n",
       "    </tr>\n",
       "    <tr>\n",
       "      <th>2</th>\n",
       "      <td>1</td>\n",
       "      <td>3</td>\n",
       "      <td>female</td>\n",
       "      <td>26.0</td>\n",
       "      <td>0</td>\n",
       "      <td>0</td>\n",
       "      <td>7.9250</td>\n",
       "      <td>S</td>\n",
       "      <td>Third</td>\n",
       "      <td>woman</td>\n",
       "      <td>False</td>\n",
       "      <td>NaN</td>\n",
       "      <td>Southampton</td>\n",
       "      <td>yes</td>\n",
       "      <td>True</td>\n",
       "      <td>0</td>\n",
       "      <td>0</td>\n",
       "      <td>0</td>\n",
       "      <td>2</td>\n",
       "      <td>2</td>\n",
       "      <td>2</td>\n",
       "      <td>0</td>\n",
       "      <td>7</td>\n",
       "      <td>2</td>\n",
       "      <td>1</td>\n",
       "      <td>1</td>\n",
       "    </tr>\n",
       "    <tr>\n",
       "      <th>3</th>\n",
       "      <td>1</td>\n",
       "      <td>1</td>\n",
       "      <td>female</td>\n",
       "      <td>35.0</td>\n",
       "      <td>1</td>\n",
       "      <td>0</td>\n",
       "      <td>53.1000</td>\n",
       "      <td>S</td>\n",
       "      <td>First</td>\n",
       "      <td>woman</td>\n",
       "      <td>False</td>\n",
       "      <td>C</td>\n",
       "      <td>Southampton</td>\n",
       "      <td>yes</td>\n",
       "      <td>False</td>\n",
       "      <td>0</td>\n",
       "      <td>1</td>\n",
       "      <td>0</td>\n",
       "      <td>2</td>\n",
       "      <td>0</td>\n",
       "      <td>2</td>\n",
       "      <td>0</td>\n",
       "      <td>2</td>\n",
       "      <td>2</td>\n",
       "      <td>1</td>\n",
       "      <td>0</td>\n",
       "    </tr>\n",
       "    <tr>\n",
       "      <th>4</th>\n",
       "      <td>0</td>\n",
       "      <td>3</td>\n",
       "      <td>male</td>\n",
       "      <td>35.0</td>\n",
       "      <td>0</td>\n",
       "      <td>0</td>\n",
       "      <td>8.0500</td>\n",
       "      <td>S</td>\n",
       "      <td>Third</td>\n",
       "      <td>man</td>\n",
       "      <td>True</td>\n",
       "      <td>NaN</td>\n",
       "      <td>Southampton</td>\n",
       "      <td>no</td>\n",
       "      <td>True</td>\n",
       "      <td>1</td>\n",
       "      <td>0</td>\n",
       "      <td>0</td>\n",
       "      <td>2</td>\n",
       "      <td>2</td>\n",
       "      <td>1</td>\n",
       "      <td>1</td>\n",
       "      <td>7</td>\n",
       "      <td>2</td>\n",
       "      <td>0</td>\n",
       "      <td>1</td>\n",
       "    </tr>\n",
       "  </tbody>\n",
       "</table>\n",
       "</div>"
      ],
      "text/plain": [
       "   survived  pclass     sex   age  sibsp  parch     fare embarked  class  \\\n",
       "0         0       3    male  22.0      1      0   7.2500        S  Third   \n",
       "1         1       1  female  38.0      1      0  71.2833        C  First   \n",
       "2         1       3  female  26.0      0      0   7.9250        S  Third   \n",
       "3         1       1  female  35.0      1      0  53.1000        S  First   \n",
       "4         0       3    male  35.0      0      0   8.0500        S  Third   \n",
       "\n",
       "     who  adult_male deck  embark_town alive  alone  sex_label  sibsp_label  \\\n",
       "0    man        True  NaN  Southampton    no  False          1            1   \n",
       "1  woman       False    C    Cherbourg   yes  False          0            1   \n",
       "2  woman       False  NaN  Southampton   yes   True          0            0   \n",
       "3  woman       False    C  Southampton   yes  False          0            1   \n",
       "4    man        True  NaN  Southampton    no   True          1            0   \n",
       "\n",
       "   parch_label  embarked_label  class_label  who_label  adult_male_label  \\\n",
       "0            0               2            2          1                 1   \n",
       "1            0               0            0          2                 0   \n",
       "2            0               2            2          2                 0   \n",
       "3            0               2            0          2                 0   \n",
       "4            0               2            2          1                 1   \n",
       "\n",
       "   deck_label  embark_town_label  alive_label  alone_label  \n",
       "0           7                  2            0            0  \n",
       "1           2                  0            1            0  \n",
       "2           7                  2            1            1  \n",
       "3           2                  2            1            0  \n",
       "4           7                  2            0            1  "
      ]
     },
     "metadata": {},
     "output_type": "display_data"
    }
   ],
   "source": [
    "# 数値型の列と結合してまとめる\n",
    "df_merge = pd.merge(df, df_label_enc, left_index=True, right_index=True, suffixes=['','_label'])\n",
    "display(df_merge.shape, df_merge.head())"
   ]
  },
  {
   "cell_type": "code",
   "execution_count": 15,
   "metadata": {},
   "outputs": [
    {
     "data": {
      "text/plain": [
       "25"
      ]
     },
     "execution_count": 15,
     "metadata": {},
     "output_type": "execute_result"
    }
   ],
   "source": [
    "gc.collect()"
   ]
  },
  {
   "cell_type": "code",
   "execution_count": 16,
   "metadata": {},
   "outputs": [
    {
     "data": {
      "text/plain": [
       "(714, 14)"
      ]
     },
     "metadata": {},
     "output_type": "display_data"
    },
    {
     "data": {
      "text/html": [
       "<div>\n",
       "<style scoped>\n",
       "    .dataframe tbody tr th:only-of-type {\n",
       "        vertical-align: middle;\n",
       "    }\n",
       "\n",
       "    .dataframe tbody tr th {\n",
       "        vertical-align: top;\n",
       "    }\n",
       "\n",
       "    .dataframe thead th {\n",
       "        text-align: right;\n",
       "    }\n",
       "</style>\n",
       "<table border=\"1\" class=\"dataframe\">\n",
       "  <thead>\n",
       "    <tr style=\"text-align: right;\">\n",
       "      <th></th>\n",
       "      <th>survived</th>\n",
       "      <th>age</th>\n",
       "      <th>fare</th>\n",
       "      <th>sex_label</th>\n",
       "      <th>sibsp_label</th>\n",
       "      <th>parch_label</th>\n",
       "      <th>embarked_label</th>\n",
       "      <th>class_label</th>\n",
       "      <th>who_label</th>\n",
       "      <th>adult_male_label</th>\n",
       "      <th>deck_label</th>\n",
       "      <th>embark_town_label</th>\n",
       "      <th>alive_label</th>\n",
       "      <th>alone_label</th>\n",
       "    </tr>\n",
       "  </thead>\n",
       "  <tbody>\n",
       "    <tr>\n",
       "      <th>0</th>\n",
       "      <td>0</td>\n",
       "      <td>22.0</td>\n",
       "      <td>7.25</td>\n",
       "      <td>1</td>\n",
       "      <td>1</td>\n",
       "      <td>0</td>\n",
       "      <td>2</td>\n",
       "      <td>2</td>\n",
       "      <td>1</td>\n",
       "      <td>1</td>\n",
       "      <td>7</td>\n",
       "      <td>2</td>\n",
       "      <td>0</td>\n",
       "      <td>0</td>\n",
       "    </tr>\n",
       "  </tbody>\n",
       "</table>\n",
       "</div>"
      ],
      "text/plain": [
       "   survived   age  fare  sex_label  sibsp_label  parch_label  embarked_label  \\\n",
       "0         0  22.0  7.25          1            1            0               2   \n",
       "\n",
       "   class_label  who_label  adult_male_label  deck_label  embark_town_label  \\\n",
       "0            2          1                 1           7                  2   \n",
       "\n",
       "   alive_label  alone_label  \n",
       "0            0            0  "
      ]
     },
     "metadata": {},
     "output_type": "display_data"
    }
   ],
   "source": [
    "# クラスタリング用にラベルエンコーディング前の列と欠損値を除外\n",
    "df_cluster = df_merge[['survived',  'age', 'fare','sex_label', 'sibsp_label', 'parch_label',\n",
    "       'embarked_label', 'class_label', 'who_label', 'adult_male_label',\n",
    "       'deck_label', 'embark_town_label', 'alive_label', 'alone_label']]\n",
    "\n",
    "# 欠損値があるとクラスタリング実施時にerror: The condensed distance matrix must contain only finite values.」というエラーが発生Errrr\n",
    "df_cluster = df_cluster.dropna()\n",
    "display(df_cluster.shape, df_cluster.head(1))"
   ]
  },
  {
   "cell_type": "markdown",
   "metadata": {},
   "source": [
    "### 標準化\n",
    "いったん数値型の列のみ標準化する"
   ]
  },
  {
   "cell_type": "code",
   "execution_count": 17,
   "metadata": {},
   "outputs": [],
   "source": [
    "from sklearn.preprocessing import StandardScaler"
   ]
  },
  {
   "cell_type": "code",
   "execution_count": 18,
   "metadata": {},
   "outputs": [],
   "source": [
    "ss = StandardScaler()"
   ]
  },
  {
   "cell_type": "code",
   "execution_count": 19,
   "metadata": {},
   "outputs": [],
   "source": [
    "result = ss.fit_transform(df_cluster[['age','fare']])"
   ]
  },
  {
   "cell_type": "code",
   "execution_count": 20,
   "metadata": {},
   "outputs": [
    {
     "data": {
      "text/plain": [
       "array([[-0.53037664, -0.51897787],\n",
       "       [ 0.57183099,  0.69189675],\n",
       "       [-0.25482473, -0.50621356]])"
      ]
     },
     "execution_count": 20,
     "metadata": {},
     "output_type": "execute_result"
    }
   ],
   "source": [
    "result[0:3]"
   ]
  },
  {
   "cell_type": "code",
   "execution_count": 21,
   "metadata": {},
   "outputs": [
    {
     "data": {
      "text/html": [
       "<div>\n",
       "<style scoped>\n",
       "    .dataframe tbody tr th:only-of-type {\n",
       "        vertical-align: middle;\n",
       "    }\n",
       "\n",
       "    .dataframe tbody tr th {\n",
       "        vertical-align: top;\n",
       "    }\n",
       "\n",
       "    .dataframe thead th {\n",
       "        text-align: right;\n",
       "    }\n",
       "</style>\n",
       "<table border=\"1\" class=\"dataframe\">\n",
       "  <thead>\n",
       "    <tr style=\"text-align: right;\">\n",
       "      <th></th>\n",
       "      <th>survived</th>\n",
       "      <th>age</th>\n",
       "      <th>fare</th>\n",
       "      <th>sex_label</th>\n",
       "      <th>sibsp_label</th>\n",
       "      <th>parch_label</th>\n",
       "      <th>embarked_label</th>\n",
       "      <th>class_label</th>\n",
       "      <th>who_label</th>\n",
       "      <th>adult_male_label</th>\n",
       "      <th>deck_label</th>\n",
       "      <th>embark_town_label</th>\n",
       "      <th>alive_label</th>\n",
       "      <th>alone_label</th>\n",
       "    </tr>\n",
       "  </thead>\n",
       "  <tbody>\n",
       "    <tr>\n",
       "      <th>0</th>\n",
       "      <td>0</td>\n",
       "      <td>-0.530377</td>\n",
       "      <td>-0.518978</td>\n",
       "      <td>1</td>\n",
       "      <td>1</td>\n",
       "      <td>0</td>\n",
       "      <td>2</td>\n",
       "      <td>2</td>\n",
       "      <td>1</td>\n",
       "      <td>1</td>\n",
       "      <td>7</td>\n",
       "      <td>2</td>\n",
       "      <td>0</td>\n",
       "      <td>0</td>\n",
       "    </tr>\n",
       "  </tbody>\n",
       "</table>\n",
       "</div>"
      ],
      "text/plain": [
       "   survived       age      fare  sex_label  sibsp_label  parch_label  \\\n",
       "0         0 -0.530377 -0.518978          1            1            0   \n",
       "\n",
       "   embarked_label  class_label  who_label  adult_male_label  deck_label  \\\n",
       "0               2            2          1                 1           7   \n",
       "\n",
       "   embark_town_label  alive_label  alone_label  \n",
       "0                  2            0            0  "
      ]
     },
     "execution_count": 21,
     "metadata": {},
     "output_type": "execute_result"
    }
   ],
   "source": [
    "df_cluster['age'] = [val[0] for val in result]\n",
    "df_cluster['fare'] = [val[1] for val in result]\n",
    "df_cluster.head(1)"
   ]
  },
  {
   "cell_type": "code",
   "execution_count": 22,
   "metadata": {},
   "outputs": [
    {
     "data": {
      "text/plain": [
       "0"
      ]
     },
     "execution_count": 22,
     "metadata": {},
     "output_type": "execute_result"
    }
   ],
   "source": [
    "gc.collect()"
   ]
  },
  {
   "cell_type": "markdown",
   "metadata": {},
   "source": [
    "### クラスタリング\n",
    "DBSCANでクラスタリング結果のラベルを付与\n",
    "\n",
    "ラベル毎にまとめ代表値を算出したデータフレームの作成\n",
    "\n",
    "ラベル毎にまとめ代表値を算出したデータフレームをデンドログラムで可視化"
   ]
  },
  {
   "cell_type": "code",
   "execution_count": 23,
   "metadata": {},
   "outputs": [],
   "source": [
    "from sklearn.cluster import DBSCAN"
   ]
  },
  {
   "cell_type": "code",
   "execution_count": 24,
   "metadata": {},
   "outputs": [],
   "source": [
    "dbscan = DBSCAN(eps=0.5, min_samples=10).fit(df_cluster)"
   ]
  },
  {
   "cell_type": "code",
   "execution_count": 25,
   "metadata": {},
   "outputs": [
    {
     "data": {
      "text/plain": [
       "array([[ 1.        , -0.25482473, -0.50621356, ...,  2.        ,\n",
       "         1.        ,  1.        ],\n",
       "       [ 0.        ,  0.36516706, -0.5038498 , ...,  2.        ,\n",
       "         0.        ,  1.        ],\n",
       "       [ 0.        , -0.6681526 , -0.5038498 , ...,  2.        ,\n",
       "         0.        ,  1.        ],\n",
       "       ...,\n",
       "       [ 0.        , -0.11704878, -0.45752012, ...,  2.        ,\n",
       "         0.        ,  1.        ],\n",
       "       [ 0.        , -0.32371271, -0.52275988, ...,  2.        ,\n",
       "         0.        ,  1.        ],\n",
       "       [ 0.        , -0.18593675, -0.41024492, ...,  2.        ,\n",
       "         0.        ,  1.        ]])"
      ]
     },
     "metadata": {},
     "output_type": "display_data"
    }
   ],
   "source": [
    "display(dbscan.components_)"
   ]
  },
  {
   "cell_type": "code",
   "execution_count": 26,
   "metadata": {
    "scrolled": true
   },
   "outputs": [
    {
     "data": {
      "text/plain": [
       "714"
      ]
     },
     "metadata": {},
     "output_type": "display_data"
    },
    {
     "data": {
      "text/plain": [
       "array([-1, -1,  0, -1,  1, -1, -1, -1, -1, -1, -1,  1, -1, -1, -1, -1, -1,\n",
       "        2, -1, -1, -1, -1, -1, -1, -1, -1, -1, -1,  1, -1, -1, -1, -1, -1,\n",
       "       -1, -1, -1,  1, -1, -1, -1, -1,  3, -1, -1,  3, -1, -1, -1, -1,  1,\n",
       "       -1, -1,  2, -1, -1, -1, -1, -1, -1,  0,  1,  4, -1, -1, -1, -1, -1,\n",
       "        1,  1,  1, -1, -1, -1, -1, -1, -1, -1,  5, -1,  1, -1,  1,  0,  1,\n",
       "       -1, -1,  1, -1, -1,  1, -1, -1, -1, -1, -1, -1, -1, -1, -1,  4,  1,\n",
       "        3,  1, -1, -1,  2, -1, -1, -1,  1, -1,  0, -1, -1,  2, -1,  4, -1,\n",
       "       -1,  2,  2, -1,  1, -1, -1, -1,  1, -1,  6,  1,  1, -1, -1, -1, -1,\n",
       "       -1, -1, -1,  1, -1, -1, -1,  2,  1, -1, -1, -1, -1, -1,  1,  6,  2,\n",
       "       -1, -1, -1, -1, -1, -1,  1,  1, -1,  4, -1, -1, -1, -1, -1,  1,  6,\n",
       "        1,  2, -1,  0, -1, -1,  2, -1,  2,  1, -1,  1, -1,  1,  2, -1,  1,\n",
       "        2, -1,  2, -1, -1,  2,  2,  2,  1,  3, -1,  5, -1, -1, -1, -1, -1,\n",
       "       -1, -1, -1, -1, -1, -1, -1, -1, -1,  2, -1, -1, -1, -1,  4, -1, -1,\n",
       "       -1, -1, -1, -1, -1,  1,  1,  4,  3,  4,  1, -1, -1, -1, -1, -1,  5,\n",
       "        1,  3, -1, -1,  1, -1, -1, -1, -1, -1, -1, -1,  1, -1,  0, -1,  2,\n",
       "       -1, -1,  1,  1, -1, -1, -1, -1, -1, -1, -1, -1, -1, -1, -1, -1, -1,\n",
       "       -1, -1, -1,  2,  2,  2, -1,  6, -1,  1,  1, -1, -1,  1, -1, -1, -1,\n",
       "       -1, -1,  1,  1, -1, -1, -1, -1,  1, -1, -1,  0, -1, -1,  1, -1, -1,\n",
       "        1, -1, -1, -1,  6, -1, -1,  4, -1, -1, -1,  1,  5,  2,  2,  6, -1,\n",
       "        1, -1, -1,  5, -1,  1, -1,  1, -1, -1, -1, -1,  2, -1, -1,  1, -1,\n",
       "       -1, -1, -1, -1, -1, -1,  1, -1, -1, -1, -1, -1,  2, -1,  1, -1,  6,\n",
       "       -1, -1, -1, -1, -1, -1, -1, -1, -1, -1, -1, -1,  1, -1,  2,  1, -1,\n",
       "       -1,  1, -1, -1,  5, -1, -1,  1, -1, -1,  1, -1, -1, -1, -1,  1, -1,\n",
       "        1, -1, -1,  1, -1, -1,  1,  1, -1, -1, -1, -1, -1,  1, -1, -1, -1,\n",
       "       -1,  1, -1, -1, -1,  1, -1,  1, -1, -1, -1,  1, -1, -1, -1,  5, -1,\n",
       "       -1, -1, -1, -1, -1, -1, -1, -1, -1, -1, -1, -1, -1,  2, -1,  0, -1,\n",
       "       -1, -1, -1,  1,  2, -1,  1, -1,  4, -1, -1, -1,  1,  1,  6, -1,  4,\n",
       "       -1, -1,  2, -1, -1,  2, -1,  1,  1, -1,  1, -1, -1,  1, -1, -1,  1,\n",
       "       -1, -1,  1, -1, -1, -1, -1,  1, -1, -1, -1, -1,  2, -1, -1, -1,  1,\n",
       "        1, -1, -1, -1,  1, -1,  1, -1, -1,  6,  1, -1, -1,  1, -1, -1, -1,\n",
       "       -1,  1, -1,  0, -1,  1, -1, -1, -1,  2, -1, -1, -1, -1,  1, -1, -1,\n",
       "        2,  1, -1, -1, -1, -1,  1,  1,  0, -1, -1, -1,  1, -1, -1, -1, -1,\n",
       "        1,  1, -1, -1, -1,  3, -1,  2,  1, -1, -1, -1, -1, -1, -1, -1,  2,\n",
       "       -1, -1, -1, -1, -1,  1,  2, -1, -1, -1,  1, -1, -1,  2,  2, -1,  1,\n",
       "       -1, -1, -1, -1, -1,  2,  2,  1, -1, -1, -1, -1, -1,  4, -1, -1,  6,\n",
       "       -1, -1, -1, -1,  1,  1, -1, -1,  1,  2,  1, -1,  1, -1, -1,  1, -1,\n",
       "       -1,  1,  1,  1, -1, -1,  1, -1, -1, -1, -1, -1,  1,  1,  0, -1, -1,\n",
       "       -1,  2,  1,  2, -1,  0,  3, -1,  2, -1, -1, -1,  4,  1, -1,  5,  2,\n",
       "       -1,  1,  1,  2, -1,  1,  5, -1,  1, -1, -1,  4, -1, -1, -1, -1, -1,\n",
       "       -1, -1,  1,  1, -1,  1, -1,  1,  2, -1,  3,  1,  1,  3, -1, -1, -1,\n",
       "       -1, -1, -1, -1, -1, -1, -1, -1, -1, -1,  2, -1, -1, -1, -1,  1, -1,\n",
       "       -1,  1, -1, -1,  1,  1, -1, -1,  1,  5,  2,  1, -1,  2, -1, -1, -1],\n",
       "      dtype=int64)"
      ]
     },
     "metadata": {},
     "output_type": "display_data"
    }
   ],
   "source": [
    "display(len(dbscan.labels_), dbscan.labels_)"
   ]
  },
  {
   "cell_type": "markdown",
   "metadata": {},
   "source": [
    "### 付与されたラベル毎に情報を集約する"
   ]
  },
  {
   "cell_type": "code",
   "execution_count": 27,
   "metadata": {},
   "outputs": [
    {
     "data": {
      "text/html": [
       "<div>\n",
       "<style scoped>\n",
       "    .dataframe tbody tr th:only-of-type {\n",
       "        vertical-align: middle;\n",
       "    }\n",
       "\n",
       "    .dataframe tbody tr th {\n",
       "        vertical-align: top;\n",
       "    }\n",
       "\n",
       "    .dataframe thead th {\n",
       "        text-align: right;\n",
       "    }\n",
       "</style>\n",
       "<table border=\"1\" class=\"dataframe\">\n",
       "  <thead>\n",
       "    <tr style=\"text-align: right;\">\n",
       "      <th></th>\n",
       "      <th>survived</th>\n",
       "      <th>age</th>\n",
       "      <th>fare</th>\n",
       "      <th>sex_label</th>\n",
       "      <th>sibsp_label</th>\n",
       "      <th>parch_label</th>\n",
       "      <th>embarked_label</th>\n",
       "      <th>class_label</th>\n",
       "      <th>who_label</th>\n",
       "      <th>adult_male_label</th>\n",
       "      <th>deck_label</th>\n",
       "      <th>embark_town_label</th>\n",
       "      <th>alive_label</th>\n",
       "      <th>alone_label</th>\n",
       "      <th>labels</th>\n",
       "    </tr>\n",
       "  </thead>\n",
       "  <tbody>\n",
       "    <tr>\n",
       "      <th>0</th>\n",
       "      <td>0</td>\n",
       "      <td>-0.530377</td>\n",
       "      <td>-0.518978</td>\n",
       "      <td>1</td>\n",
       "      <td>1</td>\n",
       "      <td>0</td>\n",
       "      <td>2</td>\n",
       "      <td>2</td>\n",
       "      <td>1</td>\n",
       "      <td>1</td>\n",
       "      <td>7</td>\n",
       "      <td>2</td>\n",
       "      <td>0</td>\n",
       "      <td>0</td>\n",
       "      <td>-1</td>\n",
       "    </tr>\n",
       "  </tbody>\n",
       "</table>\n",
       "</div>"
      ],
      "text/plain": [
       "   survived       age      fare  sex_label  sibsp_label  parch_label  \\\n",
       "0         0 -0.530377 -0.518978          1            1            0   \n",
       "\n",
       "   embarked_label  class_label  who_label  adult_male_label  deck_label  \\\n",
       "0               2            2          1                 1           7   \n",
       "\n",
       "   embark_town_label  alive_label  alone_label  labels  \n",
       "0                  2            0            0      -1  "
      ]
     },
     "execution_count": 27,
     "metadata": {},
     "output_type": "execute_result"
    }
   ],
   "source": [
    "df_cluster_labels = df_cluster.copy()\n",
    "df_cluster_labels['labels'] = dbscan.labels_\n",
    "df_cluster_labels.head(1)"
   ]
  },
  {
   "cell_type": "code",
   "execution_count": 28,
   "metadata": {},
   "outputs": [
    {
     "data": {
      "text/html": [
       "<div>\n",
       "<style scoped>\n",
       "    .dataframe tbody tr th:only-of-type {\n",
       "        vertical-align: middle;\n",
       "    }\n",
       "\n",
       "    .dataframe tbody tr th {\n",
       "        vertical-align: top;\n",
       "    }\n",
       "\n",
       "    .dataframe thead th {\n",
       "        text-align: right;\n",
       "    }\n",
       "</style>\n",
       "<table border=\"1\" class=\"dataframe\">\n",
       "  <thead>\n",
       "    <tr style=\"text-align: right;\">\n",
       "      <th></th>\n",
       "      <th>age</th>\n",
       "      <th>fare</th>\n",
       "    </tr>\n",
       "    <tr>\n",
       "      <th>labels</th>\n",
       "      <th></th>\n",
       "      <th></th>\n",
       "    </tr>\n",
       "  </thead>\n",
       "  <tbody>\n",
       "    <tr>\n",
       "      <th>-1</th>\n",
       "      <td>-0.530377</td>\n",
       "      <td>-0.518978</td>\n",
       "    </tr>\n",
       "  </tbody>\n",
       "</table>\n",
       "</div>"
      ],
      "text/plain": [
       "             age      fare\n",
       "labels                    \n",
       "-1     -0.530377 -0.518978"
      ]
     },
     "execution_count": 28,
     "metadata": {},
     "output_type": "execute_result"
    }
   ],
   "source": [
    "df_cluster_labels_num = df_cluster_labels.set_index('labels').select_dtypes(include=[float])\n",
    "df_cluster_labels_num.head(1)"
   ]
  },
  {
   "cell_type": "code",
   "execution_count": 29,
   "metadata": {},
   "outputs": [
    {
     "data": {
      "text/html": [
       "<div>\n",
       "<style scoped>\n",
       "    .dataframe tbody tr th:only-of-type {\n",
       "        vertical-align: middle;\n",
       "    }\n",
       "\n",
       "    .dataframe tbody tr th {\n",
       "        vertical-align: top;\n",
       "    }\n",
       "\n",
       "    .dataframe thead th {\n",
       "        text-align: right;\n",
       "    }\n",
       "</style>\n",
       "<table border=\"1\" class=\"dataframe\">\n",
       "  <thead>\n",
       "    <tr style=\"text-align: right;\">\n",
       "      <th></th>\n",
       "      <th>survived</th>\n",
       "      <th>sex_label</th>\n",
       "      <th>sibsp_label</th>\n",
       "      <th>parch_label</th>\n",
       "      <th>embarked_label</th>\n",
       "      <th>class_label</th>\n",
       "      <th>who_label</th>\n",
       "      <th>adult_male_label</th>\n",
       "      <th>deck_label</th>\n",
       "      <th>embark_town_label</th>\n",
       "      <th>alive_label</th>\n",
       "      <th>alone_label</th>\n",
       "    </tr>\n",
       "    <tr>\n",
       "      <th>labels</th>\n",
       "      <th></th>\n",
       "      <th></th>\n",
       "      <th></th>\n",
       "      <th></th>\n",
       "      <th></th>\n",
       "      <th></th>\n",
       "      <th></th>\n",
       "      <th></th>\n",
       "      <th></th>\n",
       "      <th></th>\n",
       "      <th></th>\n",
       "      <th></th>\n",
       "    </tr>\n",
       "  </thead>\n",
       "  <tbody>\n",
       "    <tr>\n",
       "      <th>-1</th>\n",
       "      <td>0</td>\n",
       "      <td>1</td>\n",
       "      <td>1</td>\n",
       "      <td>0</td>\n",
       "      <td>2</td>\n",
       "      <td>2</td>\n",
       "      <td>1</td>\n",
       "      <td>1</td>\n",
       "      <td>7</td>\n",
       "      <td>2</td>\n",
       "      <td>0</td>\n",
       "      <td>0</td>\n",
       "    </tr>\n",
       "  </tbody>\n",
       "</table>\n",
       "</div>"
      ],
      "text/plain": [
       "        survived  sex_label  sibsp_label  parch_label  embarked_label  \\\n",
       "labels                                                                  \n",
       "-1             0          1            1            0               2   \n",
       "\n",
       "        class_label  who_label  adult_male_label  deck_label  \\\n",
       "labels                                                         \n",
       "-1                2          1                 1           7   \n",
       "\n",
       "        embark_town_label  alive_label  alone_label  \n",
       "labels                                               \n",
       "-1                      2            0            0  "
      ]
     },
     "execution_count": 29,
     "metadata": {},
     "output_type": "execute_result"
    }
   ],
   "source": [
    "df_cluster_labels_ob = df_cluster_labels.set_index('labels').select_dtypes(exclude=[float])\n",
    "df_cluster_labels_ob.head(1)"
   ]
  },
  {
   "cell_type": "code",
   "execution_count": 30,
   "metadata": {},
   "outputs": [
    {
     "data": {
      "text/html": [
       "<div>\n",
       "<style scoped>\n",
       "    .dataframe tbody tr th:only-of-type {\n",
       "        vertical-align: middle;\n",
       "    }\n",
       "\n",
       "    .dataframe tbody tr th {\n",
       "        vertical-align: top;\n",
       "    }\n",
       "\n",
       "    .dataframe thead th {\n",
       "        text-align: right;\n",
       "    }\n",
       "</style>\n",
       "<table border=\"1\" class=\"dataframe\">\n",
       "  <thead>\n",
       "    <tr style=\"text-align: right;\">\n",
       "      <th></th>\n",
       "      <th>survived</th>\n",
       "      <th>sex_label</th>\n",
       "      <th>sibsp_label</th>\n",
       "      <th>parch_label</th>\n",
       "      <th>embarked_label</th>\n",
       "      <th>class_label</th>\n",
       "      <th>who_label</th>\n",
       "      <th>adult_male_label</th>\n",
       "      <th>deck_label</th>\n",
       "      <th>embark_town_label</th>\n",
       "      <th>alive_label</th>\n",
       "      <th>alone_label</th>\n",
       "    </tr>\n",
       "    <tr>\n",
       "      <th>labels</th>\n",
       "      <th></th>\n",
       "      <th></th>\n",
       "      <th></th>\n",
       "      <th></th>\n",
       "      <th></th>\n",
       "      <th></th>\n",
       "      <th></th>\n",
       "      <th></th>\n",
       "      <th></th>\n",
       "      <th></th>\n",
       "      <th></th>\n",
       "      <th></th>\n",
       "    </tr>\n",
       "  </thead>\n",
       "  <tbody>\n",
       "    <tr>\n",
       "      <th>-1</th>\n",
       "      <td>0</td>\n",
       "      <td>1</td>\n",
       "      <td>1</td>\n",
       "      <td>0</td>\n",
       "      <td>2</td>\n",
       "      <td>2</td>\n",
       "      <td>1</td>\n",
       "      <td>1</td>\n",
       "      <td>7</td>\n",
       "      <td>2</td>\n",
       "      <td>0</td>\n",
       "      <td>0</td>\n",
       "    </tr>\n",
       "    <tr>\n",
       "      <th>-1</th>\n",
       "      <td>1</td>\n",
       "      <td>0</td>\n",
       "      <td>1</td>\n",
       "      <td>0</td>\n",
       "      <td>0</td>\n",
       "      <td>0</td>\n",
       "      <td>2</td>\n",
       "      <td>0</td>\n",
       "      <td>2</td>\n",
       "      <td>0</td>\n",
       "      <td>1</td>\n",
       "      <td>0</td>\n",
       "    </tr>\n",
       "    <tr>\n",
       "      <th>0</th>\n",
       "      <td>1</td>\n",
       "      <td>0</td>\n",
       "      <td>0</td>\n",
       "      <td>0</td>\n",
       "      <td>2</td>\n",
       "      <td>2</td>\n",
       "      <td>2</td>\n",
       "      <td>0</td>\n",
       "      <td>7</td>\n",
       "      <td>2</td>\n",
       "      <td>1</td>\n",
       "      <td>1</td>\n",
       "    </tr>\n",
       "    <tr>\n",
       "      <th>-1</th>\n",
       "      <td>1</td>\n",
       "      <td>0</td>\n",
       "      <td>1</td>\n",
       "      <td>0</td>\n",
       "      <td>2</td>\n",
       "      <td>0</td>\n",
       "      <td>2</td>\n",
       "      <td>0</td>\n",
       "      <td>2</td>\n",
       "      <td>2</td>\n",
       "      <td>1</td>\n",
       "      <td>0</td>\n",
       "    </tr>\n",
       "    <tr>\n",
       "      <th>1</th>\n",
       "      <td>0</td>\n",
       "      <td>1</td>\n",
       "      <td>0</td>\n",
       "      <td>0</td>\n",
       "      <td>2</td>\n",
       "      <td>2</td>\n",
       "      <td>1</td>\n",
       "      <td>1</td>\n",
       "      <td>7</td>\n",
       "      <td>2</td>\n",
       "      <td>0</td>\n",
       "      <td>1</td>\n",
       "    </tr>\n",
       "    <tr>\n",
       "      <th>-1</th>\n",
       "      <td>0</td>\n",
       "      <td>1</td>\n",
       "      <td>0</td>\n",
       "      <td>0</td>\n",
       "      <td>2</td>\n",
       "      <td>0</td>\n",
       "      <td>1</td>\n",
       "      <td>1</td>\n",
       "      <td>4</td>\n",
       "      <td>2</td>\n",
       "      <td>0</td>\n",
       "      <td>1</td>\n",
       "    </tr>\n",
       "    <tr>\n",
       "      <th>-1</th>\n",
       "      <td>0</td>\n",
       "      <td>1</td>\n",
       "      <td>3</td>\n",
       "      <td>1</td>\n",
       "      <td>2</td>\n",
       "      <td>2</td>\n",
       "      <td>0</td>\n",
       "      <td>0</td>\n",
       "      <td>7</td>\n",
       "      <td>2</td>\n",
       "      <td>0</td>\n",
       "      <td>0</td>\n",
       "    </tr>\n",
       "    <tr>\n",
       "      <th>-1</th>\n",
       "      <td>1</td>\n",
       "      <td>0</td>\n",
       "      <td>0</td>\n",
       "      <td>2</td>\n",
       "      <td>2</td>\n",
       "      <td>2</td>\n",
       "      <td>2</td>\n",
       "      <td>0</td>\n",
       "      <td>7</td>\n",
       "      <td>2</td>\n",
       "      <td>1</td>\n",
       "      <td>0</td>\n",
       "    </tr>\n",
       "    <tr>\n",
       "      <th>-1</th>\n",
       "      <td>1</td>\n",
       "      <td>0</td>\n",
       "      <td>1</td>\n",
       "      <td>0</td>\n",
       "      <td>0</td>\n",
       "      <td>1</td>\n",
       "      <td>0</td>\n",
       "      <td>0</td>\n",
       "      <td>7</td>\n",
       "      <td>0</td>\n",
       "      <td>1</td>\n",
       "      <td>0</td>\n",
       "    </tr>\n",
       "    <tr>\n",
       "      <th>-1</th>\n",
       "      <td>1</td>\n",
       "      <td>0</td>\n",
       "      <td>1</td>\n",
       "      <td>1</td>\n",
       "      <td>2</td>\n",
       "      <td>2</td>\n",
       "      <td>0</td>\n",
       "      <td>0</td>\n",
       "      <td>6</td>\n",
       "      <td>2</td>\n",
       "      <td>1</td>\n",
       "      <td>0</td>\n",
       "    </tr>\n",
       "    <tr>\n",
       "      <th>-1</th>\n",
       "      <td>1</td>\n",
       "      <td>0</td>\n",
       "      <td>0</td>\n",
       "      <td>0</td>\n",
       "      <td>2</td>\n",
       "      <td>0</td>\n",
       "      <td>2</td>\n",
       "      <td>0</td>\n",
       "      <td>2</td>\n",
       "      <td>2</td>\n",
       "      <td>1</td>\n",
       "      <td>1</td>\n",
       "    </tr>\n",
       "    <tr>\n",
       "      <th>1</th>\n",
       "      <td>0</td>\n",
       "      <td>1</td>\n",
       "      <td>0</td>\n",
       "      <td>0</td>\n",
       "      <td>2</td>\n",
       "      <td>2</td>\n",
       "      <td>1</td>\n",
       "      <td>1</td>\n",
       "      <td>7</td>\n",
       "      <td>2</td>\n",
       "      <td>0</td>\n",
       "      <td>1</td>\n",
       "    </tr>\n",
       "    <tr>\n",
       "      <th>-1</th>\n",
       "      <td>0</td>\n",
       "      <td>1</td>\n",
       "      <td>1</td>\n",
       "      <td>5</td>\n",
       "      <td>2</td>\n",
       "      <td>2</td>\n",
       "      <td>1</td>\n",
       "      <td>1</td>\n",
       "      <td>7</td>\n",
       "      <td>2</td>\n",
       "      <td>0</td>\n",
       "      <td>0</td>\n",
       "    </tr>\n",
       "    <tr>\n",
       "      <th>-1</th>\n",
       "      <td>0</td>\n",
       "      <td>0</td>\n",
       "      <td>0</td>\n",
       "      <td>0</td>\n",
       "      <td>2</td>\n",
       "      <td>2</td>\n",
       "      <td>0</td>\n",
       "      <td>0</td>\n",
       "      <td>7</td>\n",
       "      <td>2</td>\n",
       "      <td>0</td>\n",
       "      <td>1</td>\n",
       "    </tr>\n",
       "    <tr>\n",
       "      <th>-1</th>\n",
       "      <td>1</td>\n",
       "      <td>0</td>\n",
       "      <td>0</td>\n",
       "      <td>0</td>\n",
       "      <td>2</td>\n",
       "      <td>1</td>\n",
       "      <td>2</td>\n",
       "      <td>0</td>\n",
       "      <td>7</td>\n",
       "      <td>2</td>\n",
       "      <td>1</td>\n",
       "      <td>1</td>\n",
       "    </tr>\n",
       "    <tr>\n",
       "      <th>-1</th>\n",
       "      <td>0</td>\n",
       "      <td>1</td>\n",
       "      <td>4</td>\n",
       "      <td>1</td>\n",
       "      <td>1</td>\n",
       "      <td>2</td>\n",
       "      <td>0</td>\n",
       "      <td>0</td>\n",
       "      <td>7</td>\n",
       "      <td>1</td>\n",
       "      <td>0</td>\n",
       "      <td>0</td>\n",
       "    </tr>\n",
       "    <tr>\n",
       "      <th>-1</th>\n",
       "      <td>0</td>\n",
       "      <td>0</td>\n",
       "      <td>1</td>\n",
       "      <td>0</td>\n",
       "      <td>2</td>\n",
       "      <td>2</td>\n",
       "      <td>2</td>\n",
       "      <td>0</td>\n",
       "      <td>7</td>\n",
       "      <td>2</td>\n",
       "      <td>0</td>\n",
       "      <td>0</td>\n",
       "    </tr>\n",
       "    <tr>\n",
       "      <th>2</th>\n",
       "      <td>0</td>\n",
       "      <td>1</td>\n",
       "      <td>0</td>\n",
       "      <td>0</td>\n",
       "      <td>2</td>\n",
       "      <td>1</td>\n",
       "      <td>1</td>\n",
       "      <td>1</td>\n",
       "      <td>7</td>\n",
       "      <td>2</td>\n",
       "      <td>0</td>\n",
       "      <td>1</td>\n",
       "    </tr>\n",
       "    <tr>\n",
       "      <th>-1</th>\n",
       "      <td>1</td>\n",
       "      <td>1</td>\n",
       "      <td>0</td>\n",
       "      <td>0</td>\n",
       "      <td>2</td>\n",
       "      <td>1</td>\n",
       "      <td>1</td>\n",
       "      <td>1</td>\n",
       "      <td>3</td>\n",
       "      <td>2</td>\n",
       "      <td>1</td>\n",
       "      <td>1</td>\n",
       "    </tr>\n",
       "    <tr>\n",
       "      <th>-1</th>\n",
       "      <td>1</td>\n",
       "      <td>0</td>\n",
       "      <td>0</td>\n",
       "      <td>0</td>\n",
       "      <td>1</td>\n",
       "      <td>2</td>\n",
       "      <td>0</td>\n",
       "      <td>0</td>\n",
       "      <td>7</td>\n",
       "      <td>1</td>\n",
       "      <td>1</td>\n",
       "      <td>1</td>\n",
       "    </tr>\n",
       "  </tbody>\n",
       "</table>\n",
       "</div>"
      ],
      "text/plain": [
       "        survived  sex_label  sibsp_label  parch_label  embarked_label  \\\n",
       "labels                                                                  \n",
       "-1             0          1            1            0               2   \n",
       "-1             1          0            1            0               0   \n",
       " 0             1          0            0            0               2   \n",
       "-1             1          0            1            0               2   \n",
       " 1             0          1            0            0               2   \n",
       "-1             0          1            0            0               2   \n",
       "-1             0          1            3            1               2   \n",
       "-1             1          0            0            2               2   \n",
       "-1             1          0            1            0               0   \n",
       "-1             1          0            1            1               2   \n",
       "-1             1          0            0            0               2   \n",
       " 1             0          1            0            0               2   \n",
       "-1             0          1            1            5               2   \n",
       "-1             0          0            0            0               2   \n",
       "-1             1          0            0            0               2   \n",
       "-1             0          1            4            1               1   \n",
       "-1             0          0            1            0               2   \n",
       " 2             0          1            0            0               2   \n",
       "-1             1          1            0            0               2   \n",
       "-1             1          0            0            0               1   \n",
       "\n",
       "        class_label  who_label  adult_male_label  deck_label  \\\n",
       "labels                                                         \n",
       "-1                2          1                 1           7   \n",
       "-1                0          2                 0           2   \n",
       " 0                2          2                 0           7   \n",
       "-1                0          2                 0           2   \n",
       " 1                2          1                 1           7   \n",
       "-1                0          1                 1           4   \n",
       "-1                2          0                 0           7   \n",
       "-1                2          2                 0           7   \n",
       "-1                1          0                 0           7   \n",
       "-1                2          0                 0           6   \n",
       "-1                0          2                 0           2   \n",
       " 1                2          1                 1           7   \n",
       "-1                2          1                 1           7   \n",
       "-1                2          0                 0           7   \n",
       "-1                1          2                 0           7   \n",
       "-1                2          0                 0           7   \n",
       "-1                2          2                 0           7   \n",
       " 2                1          1                 1           7   \n",
       "-1                1          1                 1           3   \n",
       "-1                2          0                 0           7   \n",
       "\n",
       "        embark_town_label  alive_label  alone_label  \n",
       "labels                                               \n",
       "-1                      2            0            0  \n",
       "-1                      0            1            0  \n",
       " 0                      2            1            1  \n",
       "-1                      2            1            0  \n",
       " 1                      2            0            1  \n",
       "-1                      2            0            1  \n",
       "-1                      2            0            0  \n",
       "-1                      2            1            0  \n",
       "-1                      0            1            0  \n",
       "-1                      2            1            0  \n",
       "-1                      2            1            1  \n",
       " 1                      2            0            1  \n",
       "-1                      2            0            0  \n",
       "-1                      2            0            1  \n",
       "-1                      2            1            1  \n",
       "-1                      1            0            0  \n",
       "-1                      2            0            0  \n",
       " 2                      2            0            1  \n",
       "-1                      2            1            1  \n",
       "-1                      1            1            1  "
      ]
     },
     "execution_count": 30,
     "metadata": {},
     "output_type": "execute_result"
    }
   ],
   "source": [
    "df_cluster_labels_ob.head(20)"
   ]
  },
  {
   "cell_type": "code",
   "execution_count": 31,
   "metadata": {},
   "outputs": [
    {
     "data": {
      "text/html": [
       "<div>\n",
       "<style scoped>\n",
       "    .dataframe tbody tr th:only-of-type {\n",
       "        vertical-align: middle;\n",
       "    }\n",
       "\n",
       "    .dataframe tbody tr th {\n",
       "        vertical-align: top;\n",
       "    }\n",
       "\n",
       "    .dataframe thead th {\n",
       "        text-align: right;\n",
       "    }\n",
       "</style>\n",
       "<table border=\"1\" class=\"dataframe\">\n",
       "  <thead>\n",
       "    <tr style=\"text-align: right;\">\n",
       "      <th></th>\n",
       "      <th>age_mean</th>\n",
       "      <th>age_std</th>\n",
       "      <th>fare_mean</th>\n",
       "      <th>fare_std</th>\n",
       "    </tr>\n",
       "    <tr>\n",
       "      <th>labels</th>\n",
       "      <th></th>\n",
       "      <th></th>\n",
       "      <th></th>\n",
       "      <th></th>\n",
       "    </tr>\n",
       "  </thead>\n",
       "  <tbody>\n",
       "    <tr>\n",
       "      <th>-1</th>\n",
       "      <td>0.031027</td>\n",
       "      <td>1.138136</td>\n",
       "      <td>0.236847</td>\n",
       "      <td>1.154022</td>\n",
       "    </tr>\n",
       "    <tr>\n",
       "      <th>0</th>\n",
       "      <td>-0.404082</td>\n",
       "      <td>0.290540</td>\n",
       "      <td>-0.498216</td>\n",
       "      <td>0.027768</td>\n",
       "    </tr>\n",
       "    <tr>\n",
       "      <th>1</th>\n",
       "      <td>-0.114700</td>\n",
       "      <td>0.647685</td>\n",
       "      <td>-0.500445</td>\n",
       "      <td>0.049220</td>\n",
       "    </tr>\n",
       "    <tr>\n",
       "      <th>2</th>\n",
       "      <td>0.192272</td>\n",
       "      <td>0.777839</td>\n",
       "      <td>-0.392336</td>\n",
       "      <td>0.086832</td>\n",
       "    </tr>\n",
       "    <tr>\n",
       "      <th>3</th>\n",
       "      <td>-0.017161</td>\n",
       "      <td>0.319606</td>\n",
       "      <td>-0.515653</td>\n",
       "      <td>0.011246</td>\n",
       "    </tr>\n",
       "    <tr>\n",
       "      <th>4</th>\n",
       "      <td>-0.233628</td>\n",
       "      <td>0.324803</td>\n",
       "      <td>-0.514723</td>\n",
       "      <td>0.044771</td>\n",
       "    </tr>\n",
       "    <tr>\n",
       "      <th>5</th>\n",
       "      <td>-0.371934</td>\n",
       "      <td>0.292357</td>\n",
       "      <td>-0.493914</td>\n",
       "      <td>0.017982</td>\n",
       "    </tr>\n",
       "    <tr>\n",
       "      <th>6</th>\n",
       "      <td>0.234280</td>\n",
       "      <td>0.322214</td>\n",
       "      <td>-0.390578</td>\n",
       "      <td>0.049178</td>\n",
       "    </tr>\n",
       "  </tbody>\n",
       "</table>\n",
       "</div>"
      ],
      "text/plain": [
       "        age_mean   age_std  fare_mean  fare_std\n",
       "labels                                         \n",
       "-1      0.031027  1.138136   0.236847  1.154022\n",
       " 0     -0.404082  0.290540  -0.498216  0.027768\n",
       " 1     -0.114700  0.647685  -0.500445  0.049220\n",
       " 2      0.192272  0.777839  -0.392336  0.086832\n",
       " 3     -0.017161  0.319606  -0.515653  0.011246\n",
       " 4     -0.233628  0.324803  -0.514723  0.044771\n",
       " 5     -0.371934  0.292357  -0.493914  0.017982\n",
       " 6      0.234280  0.322214  -0.390578  0.049178"
      ]
     },
     "execution_count": 31,
     "metadata": {},
     "output_type": "execute_result"
    }
   ],
   "source": [
    "df_cluster_labels_num_g =\\\n",
    "df_cluster_labels_num.reset_index().groupby('labels').agg({'age':['mean','std'],'fare':['mean','std']})\n",
    "#df_cluster_labels_num.reset_index().groupby('labels').agg({'age':['median','mean','std'],'fare':['median','mean','std']})\n",
    "\n",
    "col_name_list = []\n",
    "for col in df_cluster_labels_num.columns.tolist():\n",
    "    #for idxval in ['median','mean','std']:\n",
    "    for idxval in ['mean','std']:\n",
    "        name = col+'_'+idxval\n",
    "        col_name_list.append(name)\n",
    "\n",
    "df_cluster_labels_num_g.columns = col_name_list\n",
    "df_cluster_labels_num_g"
   ]
  },
  {
   "cell_type": "markdown",
   "metadata": {},
   "source": [
    "いったん数値型のみで階層型クラスタリングを実施"
   ]
  },
  {
   "cell_type": "code",
   "execution_count": 32,
   "metadata": {},
   "outputs": [],
   "source": [
    "from scipy.cluster.hierarchy import dendrogram, linkage, fcluster"
   ]
  },
  {
   "cell_type": "code",
   "execution_count": 33,
   "metadata": {},
   "outputs": [],
   "source": [
    "# クラスタリング（ウォード法、ユークリッド距離）\n",
    "Z = linkage(df_cluster_labels_num_g, method = \"ward\", metric = \"euclidean\")"
   ]
  },
  {
   "cell_type": "code",
   "execution_count": 34,
   "metadata": {},
   "outputs": [
    {
     "data": {
      "text/plain": [
       "{'icoord': [[25.0, 25.0, 35.0, 35.0],\n",
       "  [15.0, 15.0, 30.0, 30.0],\n",
       "  [45.0, 45.0, 55.0, 55.0],\n",
       "  [65.0, 65.0, 75.0, 75.0],\n",
       "  [50.0, 50.0, 70.0, 70.0],\n",
       "  [22.5, 22.5, 60.0, 60.0],\n",
       "  [5.0, 5.0, 41.25, 41.25]],\n",
       " 'dcoord': [[0.0, 0.03392716722560058, 0.03392716722560058, 0.0],\n",
       "  [0.0, 0.18537599474053515, 0.18537599474053515, 0.03392716722560058],\n",
       "  [0.0, 0.2833934187198651, 0.2833934187198651, 0.0],\n",
       "  [0.0, 0.35252552776973806, 0.35252552776973806, 0.0],\n",
       "  [0.2833934187198651,\n",
       "   0.5654933931235153,\n",
       "   0.5654933931235153,\n",
       "   0.35252552776973806],\n",
       "  [0.18537599474053515,\n",
       "   0.8631721212627171,\n",
       "   0.8631721212627171,\n",
       "   0.5654933931235153],\n",
       "  [0.0, 1.9922117132715051, 1.9922117132715051, 0.8631721212627171]],\n",
       " 'ivl': [-1, 4, 0, 5, 3, 6, 1, 2],\n",
       " 'leaves': [0, 5, 1, 6, 4, 7, 2, 3],\n",
       " 'color_list': ['g', 'g', 'g', 'g', 'g', 'g', 'b']}"
      ]
     },
     "execution_count": 34,
     "metadata": {},
     "output_type": "execute_result"
    },
    {
     "name": "stderr",
     "output_type": "stream",
     "text": [
      "C:\\Anaconda\\lib\\site-packages\\matplotlib\\font_manager.py:1241: UserWarning: findfont: Font family ['IPAexGothic'] not found. Falling back to DejaVu Sans.\n",
      "  (prop.get_family(), self.defaultFamily[fontext]))\n",
      "C:\\Anaconda\\lib\\site-packages\\matplotlib\\font_manager.py:1241: UserWarning: findfont: Font family ['IPAexGothic'] not found. Falling back to DejaVu Sans.\n",
      "  (prop.get_family(), self.defaultFamily[fontext]))\n"
     ]
    },
    {
     "data": {
      "image/png": "[encoded data removed]",
      "text/plain": [
       "<Figure size 432x288 with 1 Axes>"
      ]
     },
     "metadata": {
      "needs_background": "light"
     },
     "output_type": "display_data"
    }
   ],
   "source": [
    "dendrogram(Z,labels = df_cluster_labels_num_g.index)"
   ]
  },
  {
   "cell_type": "markdown",
   "metadata": {},
   "source": [
    "0.5で分割→クラスタ数を４つにする"
   ]
  },
  {
   "cell_type": "code",
   "execution_count": 35,
   "metadata": {},
   "outputs": [
    {
     "data": {
      "text/plain": [
       "2286"
      ]
     },
     "execution_count": 35,
     "metadata": {},
     "output_type": "execute_result"
    }
   ],
   "source": [
    "gc.collect()"
   ]
  },
  {
   "cell_type": "code",
   "execution_count": 36,
   "metadata": {},
   "outputs": [
    {
     "data": {
      "text/plain": [
       "array([4, 1, 3, 3, 2, 1, 1, 2], dtype=int32)"
      ]
     },
     "execution_count": 36,
     "metadata": {},
     "output_type": "execute_result"
    }
   ],
   "source": [
    "fcluster(Z, t=4, criterion='maxclust')"
   ]
  },
  {
   "cell_type": "code",
   "execution_count": 37,
   "metadata": {},
   "outputs": [
    {
     "data": {
      "text/html": [
       "<div>\n",
       "<style scoped>\n",
       "    .dataframe tbody tr th:only-of-type {\n",
       "        vertical-align: middle;\n",
       "    }\n",
       "\n",
       "    .dataframe tbody tr th {\n",
       "        vertical-align: top;\n",
       "    }\n",
       "\n",
       "    .dataframe thead th {\n",
       "        text-align: right;\n",
       "    }\n",
       "</style>\n",
       "<table border=\"1\" class=\"dataframe\">\n",
       "  <thead>\n",
       "    <tr style=\"text-align: right;\">\n",
       "      <th></th>\n",
       "      <th>age_mean</th>\n",
       "      <th>age_std</th>\n",
       "      <th>fare_mean</th>\n",
       "      <th>fare_std</th>\n",
       "      <th>d_cluster</th>\n",
       "    </tr>\n",
       "    <tr>\n",
       "      <th>labels</th>\n",
       "      <th></th>\n",
       "      <th></th>\n",
       "      <th></th>\n",
       "      <th></th>\n",
       "      <th></th>\n",
       "    </tr>\n",
       "  </thead>\n",
       "  <tbody>\n",
       "    <tr>\n",
       "      <th>-1</th>\n",
       "      <td>0.031027</td>\n",
       "      <td>1.138136</td>\n",
       "      <td>0.236847</td>\n",
       "      <td>1.154022</td>\n",
       "      <td>4</td>\n",
       "    </tr>\n",
       "    <tr>\n",
       "      <th>0</th>\n",
       "      <td>-0.404082</td>\n",
       "      <td>0.290540</td>\n",
       "      <td>-0.498216</td>\n",
       "      <td>0.027768</td>\n",
       "      <td>1</td>\n",
       "    </tr>\n",
       "    <tr>\n",
       "      <th>1</th>\n",
       "      <td>-0.114700</td>\n",
       "      <td>0.647685</td>\n",
       "      <td>-0.500445</td>\n",
       "      <td>0.049220</td>\n",
       "      <td>3</td>\n",
       "    </tr>\n",
       "    <tr>\n",
       "      <th>2</th>\n",
       "      <td>0.192272</td>\n",
       "      <td>0.777839</td>\n",
       "      <td>-0.392336</td>\n",
       "      <td>0.086832</td>\n",
       "      <td>3</td>\n",
       "    </tr>\n",
       "    <tr>\n",
       "      <th>3</th>\n",
       "      <td>-0.017161</td>\n",
       "      <td>0.319606</td>\n",
       "      <td>-0.515653</td>\n",
       "      <td>0.011246</td>\n",
       "      <td>2</td>\n",
       "    </tr>\n",
       "    <tr>\n",
       "      <th>4</th>\n",
       "      <td>-0.233628</td>\n",
       "      <td>0.324803</td>\n",
       "      <td>-0.514723</td>\n",
       "      <td>0.044771</td>\n",
       "      <td>1</td>\n",
       "    </tr>\n",
       "    <tr>\n",
       "      <th>5</th>\n",
       "      <td>-0.371934</td>\n",
       "      <td>0.292357</td>\n",
       "      <td>-0.493914</td>\n",
       "      <td>0.017982</td>\n",
       "      <td>1</td>\n",
       "    </tr>\n",
       "    <tr>\n",
       "      <th>6</th>\n",
       "      <td>0.234280</td>\n",
       "      <td>0.322214</td>\n",
       "      <td>-0.390578</td>\n",
       "      <td>0.049178</td>\n",
       "      <td>2</td>\n",
       "    </tr>\n",
       "  </tbody>\n",
       "</table>\n",
       "</div>"
      ],
      "text/plain": [
       "        age_mean   age_std  fare_mean  fare_std  d_cluster\n",
       "labels                                                    \n",
       "-1      0.031027  1.138136   0.236847  1.154022          4\n",
       " 0     -0.404082  0.290540  -0.498216  0.027768          1\n",
       " 1     -0.114700  0.647685  -0.500445  0.049220          3\n",
       " 2      0.192272  0.777839  -0.392336  0.086832          3\n",
       " 3     -0.017161  0.319606  -0.515653  0.011246          2\n",
       " 4     -0.233628  0.324803  -0.514723  0.044771          1\n",
       " 5     -0.371934  0.292357  -0.493914  0.017982          1\n",
       " 6      0.234280  0.322214  -0.390578  0.049178          2"
      ]
     },
     "execution_count": 37,
     "metadata": {},
     "output_type": "execute_result"
    }
   ],
   "source": [
    "# 階層型クラスタリングのクラスタラベルを付与\n",
    "df_cluster_labels_num_g_tmp = df_cluster_labels_num_g.copy()\n",
    "df_cluster_labels_num_g_tmp['d_cluster'] = fcluster(Z, t=4, criterion='maxclust')\n",
    "df_cluster_labels_num_g_tmp"
   ]
  },
  {
   "cell_type": "markdown",
   "metadata": {},
   "source": [
    "### 次元削減"
   ]
  },
  {
   "cell_type": "markdown",
   "metadata": {},
   "source": [
    "#### PCA"
   ]
  },
  {
   "cell_type": "code",
   "execution_count": 38,
   "metadata": {},
   "outputs": [],
   "source": [
    "from sklearn.decomposition import PCA\n",
    "model_pca = PCA(n_components=2)\n",
    "vecs_list = model_pca.fit_transform(df_cluster_labels_num_g)"
   ]
  },
  {
   "cell_type": "code",
   "execution_count": 39,
   "metadata": {},
   "outputs": [
    {
     "name": "stderr",
     "output_type": "stream",
     "text": [
      "C:\\Anaconda\\lib\\site-packages\\matplotlib\\font_manager.py:1241: UserWarning: findfont: Font family ['IPAexGothic'] not found. Falling back to DejaVu Sans.\n",
      "  (prop.get_family(), self.defaultFamily[fontext]))\n"
     ]
    },
    {
     "data": {
      "image/png": "[encoded data removed]",
      "text/plain": [
       "<Figure size 720x720 with 1 Axes>"
      ]
     },
     "metadata": {
      "needs_background": "light"
     },
     "output_type": "display_data"
    }
   ],
   "source": [
    "plt.figure(figsize=(10, 10))\n",
    "sns.scatterplot(x=vecs_list[:,0],y=vecs_list[:,1])\n",
    "for i,(x_name,y_name) in enumerate(vecs_list):\n",
    "    plt.annotate(df_cluster_labels_num_g.index[i],(x_name,y_name), fontsize=20)"
   ]
  },
  {
   "cell_type": "code",
   "execution_count": 40,
   "metadata": {},
   "outputs": [
    {
     "data": {
      "text/plain": [
       "2393"
      ]
     },
     "execution_count": 40,
     "metadata": {},
     "output_type": "execute_result"
    }
   ],
   "source": [
    "gc.collect()"
   ]
  },
  {
   "cell_type": "code",
   "execution_count": 41,
   "metadata": {},
   "outputs": [
    {
     "data": {
      "text/html": [
       "<style  type=\"text/css\" >\n",
       "    #T_207b4cee_1adc_11ed_ad49_a4db30c77761row0_col0 {\n",
       "            background-color:  #339c52;\n",
       "            color:  #000000;\n",
       "        }    #T_207b4cee_1adc_11ed_ad49_a4db30c77761row0_col1 {\n",
       "            background-color:  #00441b;\n",
       "            color:  #f1f1f1;\n",
       "        }    #T_207b4cee_1adc_11ed_ad49_a4db30c77761row0_col2 {\n",
       "            background-color:  #00441b;\n",
       "            color:  #f1f1f1;\n",
       "        }    #T_207b4cee_1adc_11ed_ad49_a4db30c77761row0_col3 {\n",
       "            background-color:  #00441b;\n",
       "            color:  #f1f1f1;\n",
       "        }    #T_207b4cee_1adc_11ed_ad49_a4db30c77761row1_col0 {\n",
       "            background-color:  #f7fcf5;\n",
       "            color:  #000000;\n",
       "        }    #T_207b4cee_1adc_11ed_ad49_a4db30c77761row1_col1 {\n",
       "            background-color:  #f7fcf5;\n",
       "            color:  #000000;\n",
       "        }    #T_207b4cee_1adc_11ed_ad49_a4db30c77761row1_col2 {\n",
       "            background-color:  #f4fbf2;\n",
       "            color:  #000000;\n",
       "        }    #T_207b4cee_1adc_11ed_ad49_a4db30c77761row1_col3 {\n",
       "            background-color:  #f5fbf3;\n",
       "            color:  #000000;\n",
       "        }    #T_207b4cee_1adc_11ed_ad49_a4db30c77761row2_col0 {\n",
       "            background-color:  #84cc83;\n",
       "            color:  #000000;\n",
       "        }    #T_207b4cee_1adc_11ed_ad49_a4db30c77761row2_col1 {\n",
       "            background-color:  #91d28e;\n",
       "            color:  #000000;\n",
       "        }    #T_207b4cee_1adc_11ed_ad49_a4db30c77761row2_col2 {\n",
       "            background-color:  #f4fbf2;\n",
       "            color:  #000000;\n",
       "        }    #T_207b4cee_1adc_11ed_ad49_a4db30c77761row2_col3 {\n",
       "            background-color:  #f2faf0;\n",
       "            color:  #000000;\n",
       "        }    #T_207b4cee_1adc_11ed_ad49_a4db30c77761row3_col0 {\n",
       "            background-color:  #005924;\n",
       "            color:  #f1f1f1;\n",
       "        }    #T_207b4cee_1adc_11ed_ad49_a4db30c77761row3_col1 {\n",
       "            background-color:  #55b567;\n",
       "            color:  #000000;\n",
       "        }    #T_207b4cee_1adc_11ed_ad49_a4db30c77761row3_col2 {\n",
       "            background-color:  #dcf2d7;\n",
       "            color:  #000000;\n",
       "        }    #T_207b4cee_1adc_11ed_ad49_a4db30c77761row3_col3 {\n",
       "            background-color:  #eef8ea;\n",
       "            color:  #000000;\n",
       "        }    #T_207b4cee_1adc_11ed_ad49_a4db30c77761row4_col0 {\n",
       "            background-color:  #48ae60;\n",
       "            color:  #000000;\n",
       "        }    #T_207b4cee_1adc_11ed_ad49_a4db30c77761row4_col1 {\n",
       "            background-color:  #f2faf0;\n",
       "            color:  #000000;\n",
       "        }    #T_207b4cee_1adc_11ed_ad49_a4db30c77761row4_col2 {\n",
       "            background-color:  #f7fcf5;\n",
       "            color:  #000000;\n",
       "        }    #T_207b4cee_1adc_11ed_ad49_a4db30c77761row4_col3 {\n",
       "            background-color:  #f7fcf5;\n",
       "            color:  #000000;\n",
       "        }    #T_207b4cee_1adc_11ed_ad49_a4db30c77761row5_col0 {\n",
       "            background-color:  #c2e7bb;\n",
       "            color:  #000000;\n",
       "        }    #T_207b4cee_1adc_11ed_ad49_a4db30c77761row5_col1 {\n",
       "            background-color:  #f1faee;\n",
       "            color:  #000000;\n",
       "        }    #T_207b4cee_1adc_11ed_ad49_a4db30c77761row5_col2 {\n",
       "            background-color:  #f7fcf5;\n",
       "            color:  #000000;\n",
       "        }    #T_207b4cee_1adc_11ed_ad49_a4db30c77761row5_col3 {\n",
       "            background-color:  #f3faf0;\n",
       "            color:  #000000;\n",
       "        }    #T_207b4cee_1adc_11ed_ad49_a4db30c77761row6_col0 {\n",
       "            background-color:  #f0f9ed;\n",
       "            color:  #000000;\n",
       "        }    #T_207b4cee_1adc_11ed_ad49_a4db30c77761row6_col1 {\n",
       "            background-color:  #f7fcf5;\n",
       "            color:  #000000;\n",
       "        }    #T_207b4cee_1adc_11ed_ad49_a4db30c77761row6_col2 {\n",
       "            background-color:  #f3faf0;\n",
       "            color:  #000000;\n",
       "        }    #T_207b4cee_1adc_11ed_ad49_a4db30c77761row6_col3 {\n",
       "            background-color:  #f6fcf4;\n",
       "            color:  #000000;\n",
       "        }    #T_207b4cee_1adc_11ed_ad49_a4db30c77761row7_col0 {\n",
       "            background-color:  #00441b;\n",
       "            color:  #f1f1f1;\n",
       "        }    #T_207b4cee_1adc_11ed_ad49_a4db30c77761row7_col1 {\n",
       "            background-color:  #f2faef;\n",
       "            color:  #000000;\n",
       "        }    #T_207b4cee_1adc_11ed_ad49_a4db30c77761row7_col2 {\n",
       "            background-color:  #dbf1d6;\n",
       "            color:  #000000;\n",
       "        }    #T_207b4cee_1adc_11ed_ad49_a4db30c77761row7_col3 {\n",
       "            background-color:  #f2faf0;\n",
       "            color:  #000000;\n",
       "        }</style><table id=\"T_207b4cee_1adc_11ed_ad49_a4db30c77761\" ><thead>    <tr>        <th class=\"blank level0\" ></th>        <th class=\"col_heading level0 col0\" >age_mean</th>        <th class=\"col_heading level0 col1\" >age_std</th>        <th class=\"col_heading level0 col2\" >fare_mean</th>        <th class=\"col_heading level0 col3\" >fare_std</th>    </tr>    <tr>        <th class=\"index_name level0\" >labels</th>        <th class=\"blank\" ></th>        <th class=\"blank\" ></th>        <th class=\"blank\" ></th>        <th class=\"blank\" ></th>    </tr></thead><tbody>\n",
       "                <tr>\n",
       "                        <th id=\"T_207b4cee_1adc_11ed_ad49_a4db30c77761level0_row0\" class=\"row_heading level0 row0\" >-1</th>\n",
       "                        <td id=\"T_207b4cee_1adc_11ed_ad49_a4db30c77761row0_col0\" class=\"data row0 col0\" >0.0310271</td>\n",
       "                        <td id=\"T_207b4cee_1adc_11ed_ad49_a4db30c77761row0_col1\" class=\"data row0 col1\" >1.13814</td>\n",
       "                        <td id=\"T_207b4cee_1adc_11ed_ad49_a4db30c77761row0_col2\" class=\"data row0 col2\" >0.236847</td>\n",
       "                        <td id=\"T_207b4cee_1adc_11ed_ad49_a4db30c77761row0_col3\" class=\"data row0 col3\" >1.15402</td>\n",
       "            </tr>\n",
       "            <tr>\n",
       "                        <th id=\"T_207b4cee_1adc_11ed_ad49_a4db30c77761level0_row1\" class=\"row_heading level0 row1\" >0</th>\n",
       "                        <td id=\"T_207b4cee_1adc_11ed_ad49_a4db30c77761row1_col0\" class=\"data row1 col0\" >-0.404082</td>\n",
       "                        <td id=\"T_207b4cee_1adc_11ed_ad49_a4db30c77761row1_col1\" class=\"data row1 col1\" >0.29054</td>\n",
       "                        <td id=\"T_207b4cee_1adc_11ed_ad49_a4db30c77761row1_col2\" class=\"data row1 col2\" >-0.498216</td>\n",
       "                        <td id=\"T_207b4cee_1adc_11ed_ad49_a4db30c77761row1_col3\" class=\"data row1 col3\" >0.0277681</td>\n",
       "            </tr>\n",
       "            <tr>\n",
       "                        <th id=\"T_207b4cee_1adc_11ed_ad49_a4db30c77761level0_row2\" class=\"row_heading level0 row2\" >1</th>\n",
       "                        <td id=\"T_207b4cee_1adc_11ed_ad49_a4db30c77761row2_col0\" class=\"data row2 col0\" >-0.1147</td>\n",
       "                        <td id=\"T_207b4cee_1adc_11ed_ad49_a4db30c77761row2_col1\" class=\"data row2 col1\" >0.647685</td>\n",
       "                        <td id=\"T_207b4cee_1adc_11ed_ad49_a4db30c77761row2_col2\" class=\"data row2 col2\" >-0.500445</td>\n",
       "                        <td id=\"T_207b4cee_1adc_11ed_ad49_a4db30c77761row2_col3\" class=\"data row2 col3\" >0.04922</td>\n",
       "            </tr>\n",
       "            <tr>\n",
       "                        <th id=\"T_207b4cee_1adc_11ed_ad49_a4db30c77761level0_row3\" class=\"row_heading level0 row3\" >2</th>\n",
       "                        <td id=\"T_207b4cee_1adc_11ed_ad49_a4db30c77761row3_col0\" class=\"data row3 col0\" >0.192272</td>\n",
       "                        <td id=\"T_207b4cee_1adc_11ed_ad49_a4db30c77761row3_col1\" class=\"data row3 col1\" >0.777839</td>\n",
       "                        <td id=\"T_207b4cee_1adc_11ed_ad49_a4db30c77761row3_col2\" class=\"data row3 col2\" >-0.392336</td>\n",
       "                        <td id=\"T_207b4cee_1adc_11ed_ad49_a4db30c77761row3_col3\" class=\"data row3 col3\" >0.0868324</td>\n",
       "            </tr>\n",
       "            <tr>\n",
       "                        <th id=\"T_207b4cee_1adc_11ed_ad49_a4db30c77761level0_row4\" class=\"row_heading level0 row4\" >3</th>\n",
       "                        <td id=\"T_207b4cee_1adc_11ed_ad49_a4db30c77761row4_col0\" class=\"data row4 col0\" >-0.0171612</td>\n",
       "                        <td id=\"T_207b4cee_1adc_11ed_ad49_a4db30c77761row4_col1\" class=\"data row4 col1\" >0.319606</td>\n",
       "                        <td id=\"T_207b4cee_1adc_11ed_ad49_a4db30c77761row4_col2\" class=\"data row4 col2\" >-0.515653</td>\n",
       "                        <td id=\"T_207b4cee_1adc_11ed_ad49_a4db30c77761row4_col3\" class=\"data row4 col3\" >0.0112462</td>\n",
       "            </tr>\n",
       "            <tr>\n",
       "                        <th id=\"T_207b4cee_1adc_11ed_ad49_a4db30c77761level0_row5\" class=\"row_heading level0 row5\" >4</th>\n",
       "                        <td id=\"T_207b4cee_1adc_11ed_ad49_a4db30c77761row5_col0\" class=\"data row5 col0\" >-0.233628</td>\n",
       "                        <td id=\"T_207b4cee_1adc_11ed_ad49_a4db30c77761row5_col1\" class=\"data row5 col1\" >0.324803</td>\n",
       "                        <td id=\"T_207b4cee_1adc_11ed_ad49_a4db30c77761row5_col2\" class=\"data row5 col2\" >-0.514723</td>\n",
       "                        <td id=\"T_207b4cee_1adc_11ed_ad49_a4db30c77761row5_col3\" class=\"data row5 col3\" >0.0447707</td>\n",
       "            </tr>\n",
       "            <tr>\n",
       "                        <th id=\"T_207b4cee_1adc_11ed_ad49_a4db30c77761level0_row6\" class=\"row_heading level0 row6\" >5</th>\n",
       "                        <td id=\"T_207b4cee_1adc_11ed_ad49_a4db30c77761row6_col0\" class=\"data row6 col0\" >-0.371934</td>\n",
       "                        <td id=\"T_207b4cee_1adc_11ed_ad49_a4db30c77761row6_col1\" class=\"data row6 col1\" >0.292357</td>\n",
       "                        <td id=\"T_207b4cee_1adc_11ed_ad49_a4db30c77761row6_col2\" class=\"data row6 col2\" >-0.493914</td>\n",
       "                        <td id=\"T_207b4cee_1adc_11ed_ad49_a4db30c77761row6_col3\" class=\"data row6 col3\" >0.0179822</td>\n",
       "            </tr>\n",
       "            <tr>\n",
       "                        <th id=\"T_207b4cee_1adc_11ed_ad49_a4db30c77761level0_row7\" class=\"row_heading level0 row7\" >6</th>\n",
       "                        <td id=\"T_207b4cee_1adc_11ed_ad49_a4db30c77761row7_col0\" class=\"data row7 col0\" >0.23428</td>\n",
       "                        <td id=\"T_207b4cee_1adc_11ed_ad49_a4db30c77761row7_col1\" class=\"data row7 col1\" >0.322214</td>\n",
       "                        <td id=\"T_207b4cee_1adc_11ed_ad49_a4db30c77761row7_col2\" class=\"data row7 col2\" >-0.390578</td>\n",
       "                        <td id=\"T_207b4cee_1adc_11ed_ad49_a4db30c77761row7_col3\" class=\"data row7 col3\" >0.0491779</td>\n",
       "            </tr>\n",
       "    </tbody></table>"
      ],
      "text/plain": [
       "<pandas.io.formats.style.Styler at 0x288c6e463c8>"
      ]
     },
     "execution_count": 41,
     "metadata": {},
     "output_type": "execute_result"
    }
   ],
   "source": [
    "#列を基準にカラーリング\n",
    "df_cluster_labels_num_g.style.background_gradient(axis=0,cmap='Greens')"
   ]
  },
  {
   "cell_type": "markdown",
   "metadata": {},
   "source": [
    "x軸がfareの大きさ、Y軸がageの大きさと推測"
   ]
  },
  {
   "cell_type": "code",
   "execution_count": 42,
   "metadata": {},
   "outputs": [
    {
     "data": {
      "text/plain": [
       "0"
      ]
     },
     "execution_count": 42,
     "metadata": {},
     "output_type": "execute_result"
    }
   ],
   "source": [
    "df_cluster_labels_num_g_tmp.index[1]"
   ]
  },
  {
   "cell_type": "code",
   "execution_count": 43,
   "metadata": {},
   "outputs": [],
   "source": [
    "def visualize_multiple_scatter_plot(df, nrow, ncol, xlabel_name, ylabel_name, xrotation=0, fig_width=30, fig_height=20):\n",
    "    \"\"\"\n",
    "    複数列の散布図を描画する\n",
    "    \n",
    "    Parameters\n",
    "    ----------\n",
    "    df：dataframe\n",
    "    　対象のデータフレーム\n",
    "    nrow : int\n",
    "        グラフの行数\n",
    "    ncol : int\n",
    "        グラフの列数\n",
    "    xlabel_name : str\n",
    "　　  グラフのX軸のラベル\n",
    "    ylabel_name : str\n",
    "　　  グラフのY軸のラベル\n",
    "    xrotation : int\n",
    "        Xラベルの角度\n",
    "    fig_width：int\n",
    "        1つのグラフの幅\n",
    "    fig_height : int\n",
    "        1つのグラフの高さ\n",
    "    Returns\n",
    "    -------\n",
    "    　 複数列の散布図の表示\n",
    "    \"\"\"        \n",
    "    plt.figure(figsize=(fig_width, fig_height))\n",
    "    for i, col in enumerate(df.columns.tolist()):\n",
    "        plt.subplot(nrow, ncol, i+1)\n",
    "        plt.scatter(df.index, df[col])\n",
    "        plt.title('Distribution Of ' + col)\n",
    "        plt.xlabel(xlabel_name)\n",
    "        plt.xticks(rotation=xrotation)\n",
    "        # Y軸ラベルの指数表記を制御\n",
    "        plt.ticklabel_format(style='plain', axis='y')\n",
    "        plt.ylabel(ylabel_name)\n",
    "        plt.tight_layout()"
   ]
  },
  {
   "cell_type": "code",
   "execution_count": 44,
   "metadata": {
    "scrolled": true
   },
   "outputs": [
    {
     "data": {
      "image/png": "[encoded data removed]",
      "text/plain": [
       "<Figure size 2160x1440 with 4 Axes>"
      ]
     },
     "metadata": {
      "needs_background": "light"
     },
     "output_type": "display_data"
    }
   ],
   "source": [
    "ncol = 2\n",
    "nrow = int(round(len(df_cluster_labels_num_g.columns.tolist())/ ncol, 0))\n",
    "visualize_multiple_scatter_plot(df_cluster_labels_num_g, nrow, ncol, 'index', 'value', xrotation=0)"
   ]
  },
  {
   "cell_type": "code",
   "execution_count": 50,
   "metadata": {},
   "outputs": [],
   "source": [
    "def visualize_multiple_bar_plot(df, nrow, ncol, xlabel_name, ylabel_name, xrotation=0, fig_width=30, fig_height=20,barwidth=0.4):\n",
    "    \"\"\"\n",
    "    複数列の棒グラフを描画する\n",
    "    \n",
    "    Parameters\n",
    "    ----------\n",
    "    df：dataframe\n",
    "    　対象のデータフレーム\n",
    "    nrow : int\n",
    "        グラフの行数\n",
    "    ncol : int\n",
    "        グラフの列数\n",
    "    xlabel_name : str\n",
    "　　  グラフのX軸のラベル\n",
    "    ylabel_name : str\n",
    "　　  グラフのY軸のラベル\n",
    "    xrotation : int\n",
    "        Xラベルの角度\n",
    "    fig_width：int\n",
    "        1つのグラフの幅\n",
    "    fig_height : int\n",
    "        1つのグラフの高さ\n",
    "    barwidth : int\n",
    "        棒同士の間隔\n",
    "    Returns\n",
    "    -------\n",
    "    　 複数列の棒グラフの表示\n",
    "    \"\"\"\n",
    "    plt.figure(figsize=(fig_width, fig_height))\n",
    "    for i, col in enumerate(df.columns.tolist()):\n",
    "        plt.subplot(nrow, ncol, i+1)\n",
    "        plt.bar(df.index, df[col], width=barwidth)\n",
    "        plt.title('Barplot Of ' + col)\n",
    "        plt.xlabel(xlabel_name)\n",
    "        plt.xticks(rotation=xrotation)\n",
    "        # Y軸ラベルの指数表記を制御\n",
    "        plt.ticklabel_format(style='plain', axis='y')\n",
    "        plt.ylabel(ylabel_name)\n",
    "        plt.tight_layout()"
   ]
  },
  {
   "cell_type": "code",
   "execution_count": 51,
   "metadata": {},
   "outputs": [
    {
     "data": {
      "image/png": "[encoded data removed]",
      "text/plain": [
       "<Figure size 2160x1440 with 4 Axes>"
      ]
     },
     "metadata": {
      "needs_background": "light"
     },
     "output_type": "display_data"
    }
   ],
   "source": [
    "ncol = 2\n",
    "nrow = int(round(len(df_cluster_labels_num_g.columns.tolist())/ ncol, 0))\n",
    "visualize_multiple_bar_plot(df_cluster_labels_num_g, nrow, ncol, 'index', 'value', xrotation=0)"
   ]
  },
  {
   "cell_type": "code",
   "execution_count": 52,
   "metadata": {
    "scrolled": false
   },
   "outputs": [
    {
     "data": {
      "text/plain": [
       "11224"
      ]
     },
     "execution_count": 52,
     "metadata": {},
     "output_type": "execute_result"
    }
   ],
   "source": [
    "gc.collect()"
   ]
  },
  {
   "cell_type": "code",
   "execution_count": 53,
   "metadata": {},
   "outputs": [
    {
     "data": {
      "image/png": "[encoded data removed]",
      "text/plain": [
       "<Figure size 720x720 with 1 Axes>"
      ]
     },
     "metadata": {
      "needs_background": "light"
     },
     "output_type": "display_data"
    }
   ],
   "source": [
    "X_comp, Y_comp = model_pca.components_\n",
    "plt.figure(figsize=(10, 10))\n",
    "sns.scatterplot(x=X_comp,y=Y_comp)\n",
    "for i,(x_name,y_name) in enumerate(zip(X_comp, Y_comp)):\n",
    "    plt.annotate(df_cluster_labels_num_g.columns[i],(x_name,y_name), fontsize=20)"
   ]
  },
  {
   "cell_type": "markdown",
   "metadata": {},
   "source": [
    "X軸はfareの標準偏差、Y軸はageの中央値と平均"
   ]
  },
  {
   "cell_type": "code",
   "execution_count": 54,
   "metadata": {
    "scrolled": true
   },
   "outputs": [
    {
     "data": {
      "text/html": [
       "<style  type=\"text/css\" >\n",
       "    #T_e7fbfe6e_1adc_11ed_bebe_a4db30c77761row0_col0 {\n",
       "            background-color:  #00441b;\n",
       "            color:  #f1f1f1;\n",
       "        }    #T_e7fbfe6e_1adc_11ed_bebe_a4db30c77761row0_col1 {\n",
       "            background-color:  #cbebc5;\n",
       "            color:  #000000;\n",
       "        }    #T_e7fbfe6e_1adc_11ed_bebe_a4db30c77761row1_col0 {\n",
       "            background-color:  #f7fcf5;\n",
       "            color:  #000000;\n",
       "        }    #T_e7fbfe6e_1adc_11ed_bebe_a4db30c77761row1_col1 {\n",
       "            background-color:  #f7fcf5;\n",
       "            color:  #000000;\n",
       "        }    #T_e7fbfe6e_1adc_11ed_bebe_a4db30c77761row2_col0 {\n",
       "            background-color:  #def2d9;\n",
       "            color:  #000000;\n",
       "        }    #T_e7fbfe6e_1adc_11ed_bebe_a4db30c77761row2_col1 {\n",
       "            background-color:  #66bd6f;\n",
       "            color:  #000000;\n",
       "        }    #T_e7fbfe6e_1adc_11ed_bebe_a4db30c77761row3_col0 {\n",
       "            background-color:  #c1e6ba;\n",
       "            color:  #000000;\n",
       "        }    #T_e7fbfe6e_1adc_11ed_bebe_a4db30c77761row3_col1 {\n",
       "            background-color:  #00441b;\n",
       "            color:  #f1f1f1;\n",
       "        }    #T_e7fbfe6e_1adc_11ed_bebe_a4db30c77761row4_col0 {\n",
       "            background-color:  #f2faef;\n",
       "            color:  #000000;\n",
       "        }    #T_e7fbfe6e_1adc_11ed_bebe_a4db30c77761row4_col1 {\n",
       "            background-color:  #4db163;\n",
       "            color:  #000000;\n",
       "        }    #T_e7fbfe6e_1adc_11ed_bebe_a4db30c77761row5_col0 {\n",
       "            background-color:  #f2faf0;\n",
       "            color:  #000000;\n",
       "        }    #T_e7fbfe6e_1adc_11ed_bebe_a4db30c77761row5_col1 {\n",
       "            background-color:  #c4e8bd;\n",
       "            color:  #000000;\n",
       "        }    #T_e7fbfe6e_1adc_11ed_bebe_a4db30c77761row6_col0 {\n",
       "            background-color:  #f7fcf5;\n",
       "            color:  #000000;\n",
       "        }    #T_e7fbfe6e_1adc_11ed_bebe_a4db30c77761row6_col1 {\n",
       "            background-color:  #f0f9ec;\n",
       "            color:  #000000;\n",
       "        }    #T_e7fbfe6e_1adc_11ed_bebe_a4db30c77761row7_col0 {\n",
       "            background-color:  #e7f6e2;\n",
       "            color:  #000000;\n",
       "        }    #T_e7fbfe6e_1adc_11ed_bebe_a4db30c77761row7_col1 {\n",
       "            background-color:  #005924;\n",
       "            color:  #f1f1f1;\n",
       "        }</style><table id=\"T_e7fbfe6e_1adc_11ed_bebe_a4db30c77761\" ><thead>    <tr>        <th class=\"blank level0\" ></th>        <th class=\"col_heading level0 col0\" >0</th>        <th class=\"col_heading level0 col1\" >1</th>    </tr>    <tr>        <th class=\"index_name level0\" >labels</th>        <th class=\"blank\" ></th>        <th class=\"blank\" ></th>    </tr></thead><tbody>\n",
       "                <tr>\n",
       "                        <th id=\"T_e7fbfe6e_1adc_11ed_bebe_a4db30c77761level0_row0\" class=\"row_heading level0 row0\" >-1</th>\n",
       "                        <td id=\"T_e7fbfe6e_1adc_11ed_bebe_a4db30c77761row0_col0\" class=\"data row0 col0\" >1.31</td>\n",
       "                        <td id=\"T_e7fbfe6e_1adc_11ed_bebe_a4db30c77761row0_col1\" class=\"data row0 col1\" >-0.134812</td>\n",
       "            </tr>\n",
       "            <tr>\n",
       "                        <th id=\"T_e7fbfe6e_1adc_11ed_bebe_a4db30c77761level0_row1\" class=\"row_heading level0 row1\" >0</th>\n",
       "                        <td id=\"T_e7fbfe6e_1adc_11ed_bebe_a4db30c77761row1_col0\" class=\"data row1 col0\" >-0.330865</td>\n",
       "                        <td id=\"T_e7fbfe6e_1adc_11ed_bebe_a4db30c77761row1_col1\" class=\"data row1 col1\" >-0.279263</td>\n",
       "            </tr>\n",
       "            <tr>\n",
       "                        <th id=\"T_e7fbfe6e_1adc_11ed_bebe_a4db30c77761level0_row2\" class=\"row_heading level0 row2\" >1</th>\n",
       "                        <td id=\"T_e7fbfe6e_1adc_11ed_bebe_a4db30c77761row2_col0\" class=\"data row2 col0\" >-0.0793217</td>\n",
       "                        <td id=\"T_e7fbfe6e_1adc_11ed_bebe_a4db30c77761row2_col1\" class=\"data row2 col1\" >0.0517641</td>\n",
       "            </tr>\n",
       "            <tr>\n",
       "                        <th id=\"T_e7fbfe6e_1adc_11ed_bebe_a4db30c77761level0_row3\" class=\"row_heading level0 row3\" >2</th>\n",
       "                        <td id=\"T_e7fbfe6e_1adc_11ed_bebe_a4db30c77761row3_col0\" class=\"data row3 col0\" >0.117453</td>\n",
       "                        <td id=\"T_e7fbfe6e_1adc_11ed_bebe_a4db30c77761row3_col1\" class=\"data row3 col1\" >0.339412</td>\n",
       "            </tr>\n",
       "            <tr>\n",
       "                        <th id=\"T_e7fbfe6e_1adc_11ed_bebe_a4db30c77761level0_row4\" class=\"row_heading level0 row4\" >3</th>\n",
       "                        <td id=\"T_e7fbfe6e_1adc_11ed_bebe_a4db30c77761row4_col0\" class=\"data row4 col0\" >-0.268472</td>\n",
       "                        <td id=\"T_e7fbfe6e_1adc_11ed_bebe_a4db30c77761row4_col1\" class=\"data row4 col1\" >0.0896997</td>\n",
       "            </tr>\n",
       "            <tr>\n",
       "                        <th id=\"T_e7fbfe6e_1adc_11ed_bebe_a4db30c77761level0_row5\" class=\"row_heading level0 row5\" >4</th>\n",
       "                        <td id=\"T_e7fbfe6e_1adc_11ed_bebe_a4db30c77761row5_col0\" class=\"data row5 col0\" >-0.279191</td>\n",
       "                        <td id=\"T_e7fbfe6e_1adc_11ed_bebe_a4db30c77761row5_col1\" class=\"data row5 col1\" >-0.119587</td>\n",
       "            </tr>\n",
       "            <tr>\n",
       "                        <th id=\"T_e7fbfe6e_1adc_11ed_bebe_a4db30c77761level0_row6\" class=\"row_heading level0 row6\" >5</th>\n",
       "                        <td id=\"T_e7fbfe6e_1adc_11ed_bebe_a4db30c77761row6_col0\" class=\"data row6 col0\" >-0.329238</td>\n",
       "                        <td id=\"T_e7fbfe6e_1adc_11ed_bebe_a4db30c77761row6_col1\" class=\"data row6 col1\" >-0.24647</td>\n",
       "            </tr>\n",
       "            <tr>\n",
       "                        <th id=\"T_e7fbfe6e_1adc_11ed_bebe_a4db30c77761level0_row7\" class=\"row_heading level0 row7\" >6</th>\n",
       "                        <td id=\"T_e7fbfe6e_1adc_11ed_bebe_a4db30c77761row7_col0\" class=\"data row7 col0\" >-0.140368</td>\n",
       "                        <td id=\"T_e7fbfe6e_1adc_11ed_bebe_a4db30c77761row7_col1\" class=\"data row7 col1\" >0.299256</td>\n",
       "            </tr>\n",
       "    </tbody></table>"
      ],
      "text/plain": [
       "<pandas.io.formats.style.Styler at 0x288c726e7f0>"
      ]
     },
     "execution_count": 54,
     "metadata": {},
     "output_type": "execute_result"
    }
   ],
   "source": [
    "#https://qiita.com/oki_kosuke/items/43cb63134f9a03ebc79a\n",
    "df_score = pd.DataFrame(model_pca.transform(df_cluster_labels_num_g)\n",
    "                        , index=df_cluster_labels_num_g.index)\n",
    "df_score.style.background_gradient(axis=0,cmap='Greens')"
   ]
  },
  {
   "cell_type": "code",
   "execution_count": null,
   "metadata": {},
   "outputs": [],
   "source": []
  },
  {
   "cell_type": "markdown",
   "metadata": {},
   "source": [
    "### ローディング（各主成分の構成方法）\n",
    "ローディングとは各主成分がどのように構成されるかを表す値"
   ]
  },
  {
   "cell_type": "code",
   "execution_count": 55,
   "metadata": {},
   "outputs": [
    {
     "data": {
      "text/html": [
       "<style  type=\"text/css\" >\n",
       "    #T_e900550c_1adc_11ed_847e_a4db30c77761row0_col0 {\n",
       "            background-color:  #f7fcf5;\n",
       "            color:  #000000;\n",
       "        }    #T_e900550c_1adc_11ed_847e_a4db30c77761row0_col1 {\n",
       "            background-color:  #00441b;\n",
       "            color:  #f1f1f1;\n",
       "        }    #T_e900550c_1adc_11ed_847e_a4db30c77761row1_col0 {\n",
       "            background-color:  #359e53;\n",
       "            color:  #000000;\n",
       "        }    #T_e900550c_1adc_11ed_847e_a4db30c77761row1_col1 {\n",
       "            background-color:  #91d28e;\n",
       "            color:  #000000;\n",
       "        }    #T_e900550c_1adc_11ed_847e_a4db30c77761row2_col0 {\n",
       "            background-color:  #63bc6e;\n",
       "            color:  #000000;\n",
       "        }    #T_e900550c_1adc_11ed_847e_a4db30c77761row2_col1 {\n",
       "            background-color:  #d5efcf;\n",
       "            color:  #000000;\n",
       "        }    #T_e900550c_1adc_11ed_847e_a4db30c77761row3_col0 {\n",
       "            background-color:  #00441b;\n",
       "            color:  #f1f1f1;\n",
       "        }    #T_e900550c_1adc_11ed_847e_a4db30c77761row3_col1 {\n",
       "            background-color:  #f7fcf5;\n",
       "            color:  #000000;\n",
       "        }</style><table id=\"T_e900550c_1adc_11ed_847e_a4db30c77761\" ><thead>    <tr>        <th class=\"blank level0\" ></th>        <th class=\"col_heading level0 col0\" >0</th>        <th class=\"col_heading level0 col1\" >1</th>    </tr></thead><tbody>\n",
       "                <tr>\n",
       "                        <th id=\"T_e900550c_1adc_11ed_847e_a4db30c77761level0_row0\" class=\"row_heading level0 row0\" >age_mean</th>\n",
       "                        <td id=\"T_e900550c_1adc_11ed_847e_a4db30c77761row0_col0\" class=\"data row0 col0\" >0.172063</td>\n",
       "                        <td id=\"T_e900550c_1adc_11ed_847e_a4db30c77761row0_col1\" class=\"data row0 col1\" >0.921057</td>\n",
       "            </tr>\n",
       "            <tr>\n",
       "                        <th id=\"T_e900550c_1adc_11ed_847e_a4db30c77761level0_row1\" class=\"row_heading level0 row1\" >age_std</th>\n",
       "                        <td id=\"T_e900550c_1adc_11ed_847e_a4db30c77761row1_col0\" class=\"data row1 col0\" >0.525872</td>\n",
       "                        <td id=\"T_e900550c_1adc_11ed_847e_a4db30c77761row1_col1\" class=\"data row1 col1\" >0.199532</td>\n",
       "            </tr>\n",
       "            <tr>\n",
       "                        <th id=\"T_e900550c_1adc_11ed_847e_a4db30c77761level0_row2\" class=\"row_heading level0 row2\" >fare_mean</th>\n",
       "                        <td id=\"T_e900550c_1adc_11ed_847e_a4db30c77761row2_col0\" class=\"data row2 col0\" >0.455935</td>\n",
       "                        <td id=\"T_e900550c_1adc_11ed_847e_a4db30c77761row2_col1\" class=\"data row2 col1\" >-0.0820107</td>\n",
       "            </tr>\n",
       "            <tr>\n",
       "                        <th id=\"T_e900550c_1adc_11ed_847e_a4db30c77761level0_row3\" class=\"row_heading level0 row3\" >fare_std</th>\n",
       "                        <td id=\"T_e900550c_1adc_11ed_847e_a4db30c77761row3_col0\" class=\"data row3 col0\" >0.697119</td>\n",
       "                        <td id=\"T_e900550c_1adc_11ed_847e_a4db30c77761row3_col1\" class=\"data row3 col1\" >-0.324216</td>\n",
       "            </tr>\n",
       "    </tbody></table>"
      ],
      "text/plain": [
       "<pandas.io.formats.style.Styler at 0x288c726e7b8>"
      ]
     },
     "execution_count": 55,
     "metadata": {},
     "output_type": "execute_result"
    }
   ],
   "source": [
    "#https://qiita.com/oki_kosuke/items/43cb63134f9a03ebc79a\n",
    "df_loadings = pd.DataFrame(model_pca.components_.T\n",
    "                           , index=df_cluster_labels_num_g.columns)\n",
    "df_loadings.style.background_gradient(axis=0,cmap='Greens')"
   ]
  },
  {
   "cell_type": "markdown",
   "metadata": {},
   "source": [
    "### スコア（各主成分に対するサンプルの値）\n",
    "スコアとは各サンプルが各主成分軸上のどの座標に位置するかを表す値"
   ]
  },
  {
   "cell_type": "markdown",
   "metadata": {},
   "source": [
    "### 寄与率"
   ]
  },
  {
   "cell_type": "code",
   "execution_count": 56,
   "metadata": {
    "scrolled": true
   },
   "outputs": [
    {
     "data": {
      "text/html": [
       "<div>\n",
       "<style scoped>\n",
       "    .dataframe tbody tr th:only-of-type {\n",
       "        vertical-align: middle;\n",
       "    }\n",
       "\n",
       "    .dataframe tbody tr th {\n",
       "        vertical-align: top;\n",
       "    }\n",
       "\n",
       "    .dataframe thead th {\n",
       "        text-align: right;\n",
       "    }\n",
       "</style>\n",
       "<table border=\"1\" class=\"dataframe\">\n",
       "  <thead>\n",
       "    <tr style=\"text-align: right;\">\n",
       "      <th></th>\n",
       "      <th>0</th>\n",
       "    </tr>\n",
       "  </thead>\n",
       "  <tbody>\n",
       "    <tr>\n",
       "      <th>0</th>\n",
       "      <td>0.805404</td>\n",
       "    </tr>\n",
       "    <tr>\n",
       "      <th>1</th>\n",
       "      <td>0.146644</td>\n",
       "    </tr>\n",
       "  </tbody>\n",
       "</table>\n",
       "</div>"
      ],
      "text/plain": [
       "          0\n",
       "0  0.805404\n",
       "1  0.146644"
      ]
     },
     "execution_count": 56,
     "metadata": {},
     "output_type": "execute_result"
    }
   ],
   "source": [
    "pd.DataFrame(model_pca.explained_variance_ratio_)"
   ]
  },
  {
   "cell_type": "code",
   "execution_count": 57,
   "metadata": {},
   "outputs": [
    {
     "data": {
      "text/plain": [
       "2253"
      ]
     },
     "execution_count": 57,
     "metadata": {},
     "output_type": "execute_result"
    }
   ],
   "source": [
    "gc.collect()"
   ]
  },
  {
   "cell_type": "code",
   "execution_count": null,
   "metadata": {},
   "outputs": [],
   "source": []
  }
 ],
 "metadata": {
  "kernelspec": {
   "display_name": "Python 3",
   "language": "python",
   "name": "python3"
  },
  "language_info": {
   "codemirror_mode": {
    "name": "ipython",
    "version": 3
   },
   "file_extension": ".py",
   "mimetype": "text/x-python",
   "name": "python",
   "nbconvert_exporter": "python",
   "pygments_lexer": "ipython3",
   "version": "3.6.8"
  }
 },
 "nbformat": 4,
 "nbformat_minor": 2
}
